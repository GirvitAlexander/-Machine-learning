{
 "cells": [
  {
   "cell_type": "code",
   "execution_count": 1,
   "id": "6310f9ce-40d2-465c-8d8e-2039a0896dd0",
   "metadata": {},
   "outputs": [],
   "source": [
    "import numpy as np\n",
    "import scipy\n",
    "\n",
    "from scipy import stats\n",
    "from scipy.cluster import hierarchy\n",
    "from scipy.spatial.distance import pdist\n",
    "\n",
    "import matplotlib.pyplot as plt\n",
    "from matplotlib import colors\n",
    "from matplotlib.ticker import PercentFormatter\n",
    "\n",
    "from sklearn.cluster import KMeans"
   ]
  },
  {
   "cell_type": "markdown",
   "id": "871de4ed-ced8-4124-bad1-f5f42c584b22",
   "metadata": {
    "tags": []
   },
   "source": [
    "# Практическое задание 4\n",
    "## Вариант 7"
   ]
  },
  {
   "cell_type": "markdown",
   "id": "4fcd2750-1aa2-4b13-8b10-2bfff9a94f6c",
   "metadata": {
    "tags": []
   },
   "source": [
    "## Задание 1 "
   ]
  },
  {
   "cell_type": "markdown",
   "id": "3bd45d3f-36ca-4441-bf53-c526672d1b4a",
   "metadata": {},
   "source": [
    "Дан набор точек **D**:\n",
    "\n",
    "|      | 0    | 1    | 2    | 3    | 4    | 5    | 6    | 7    | 8    | 9    |\n",
    "| ---- | ---- | ---- | ---- | ---- | ---- | ---- | ---- | ---- | ---- | ---- |\n",
    "|**x**|-25.2|-45|-43.7|-40.9|-42.3|-18.9|-30.7|-31.2|-25.4|-42|\n",
    "|**y**|35.1|32.2|29.2|29.9|31.6|41.3|34.1|34.4|37.8|32.8|\n",
    "\n",
    "Количество кластеров k = **2**\n",
    "\n",
    "Начальные средние значения (центры кластеров) M = **[(-32, 39), (-45, 24)]**\n",
    "\n",
    "Порог сходимости ε = **0.01**"
   ]
  },
  {
   "cell_type": "markdown",
   "id": "3e0079db-5d57-49e4-8ecf-28d363899f9d",
   "metadata": {},
   "source": [
    "1.1 *Самостоятельно* реализуйте алгоритм **KMeans** для двумерных данных. Вычислите кластеры и их центры. \n",
    "\n",
    "Оформите этот пункт в виде функции. Функция должна возвращать найденные кластеры и новые центры кластеров. Каждый кластер должен содержать индексы точек, которые принадлежат этому кластеру\n",
    "\n",
    "1.2 Постройте диаграмму рассеяния, на которой будут отображены все точки, их принадлежность кластеру, центры кластеров. \n",
    "\n",
    "Оформите этот пункт в виде функции. Принадлежность кластеру отобразить цветом точки. Все точки подписать. Точки центров кластеров выделить\n",
    "\n",
    "1.3 Воспользуйтесь алгоритмом **KMeans** из библиотеки **sklearn** и выведите результат его работы. Сравните результаты собственной и библиотечной реализации\n",
    "\n",
    "1.4 К исходным данным добавьте точку **(10, -17)** и повторно вычислите кластеры и их центры. Также постройте диаграмму рассеяния"
   ]
  },
  {
   "cell_type": "markdown",
   "id": "6c1344a1-2acf-44ae-ab16-60df12766d54",
   "metadata": {},
   "source": [
    "### Данные"
   ]
  },
  {
   "cell_type": "code",
   "execution_count": 2,
   "id": "56e505d6-f7cd-4fc4-bab7-8eb19183a052",
   "metadata": {},
   "outputs": [],
   "source": [
    "# Набор точек\n",
    "D = [(-25.2, 35.1), (-45,   32.2), (-40.9, 29.9),\n",
    "     (-42.3, 31.6), (-18.9, 41.3), (-30.7, 34.1),\n",
    "     (-31.2, 34.4), (-25.4, 37.8), (-42,   32.8)]\n",
    "\n",
    "# Количество кластеров\n",
    "k = 2\n",
    "\n",
    "# Начальные кластеры\n",
    "M = [(-32, 39), (-45, 24)]\n",
    "\n",
    "# Порог сходимости\n",
    "epsil = 0.01"
   ]
  },
  {
   "cell_type": "markdown",
   "id": "725cab54-22e2-48ed-b195-763a6a102ba3",
   "metadata": {},
   "source": [
    "### Пункт 1.1"
   ]
  },
  {
   "cell_type": "code",
   "execution_count": 3,
   "id": "55e4d221-f366-4af6-a7ab-a72487dc2d70",
   "metadata": {},
   "outputs": [],
   "source": [
    "# Функция рассчета расстояния между точками\n",
    "# A, B - точки\n",
    "# return:\n",
    "# float - расстояние между точками \n",
    "def dist_points(A, B):\n",
    "    return ((A[0] - B[0])**2 + (A[1] - B[1])**2)**(1/2)\n",
    "\n",
    "# Функция для работы алгоритма Kmeans\n",
    "# points - набор всех точек\n",
    "# clusters - начальные центры кластеров\n",
    "# epsilon - насколько будут происходить различия между k и k+1 итерацией\n",
    "# return:\n",
    "# list(list(int)) - разбитие на кластеры содержащие индексы точек\n",
    "# list(list[2 * float]) - центры кластеров\n",
    "def KMeans_m(points, clusters, epsilon = 0.01):\n",
    "    # Результирующие разбитие индексов точек на кластеры\n",
    "    clustersWithId = []\n",
    "    # Результирующие разбитие индексов точек на кластеры\n",
    "    prev_cluters = clusters.copy()\n",
    "    # Счетчик на бесконечный цикл\n",
    "    cnt = 0\n",
    "    \n",
    "    while True:\n",
    "        # Проверка на бесконечный цикл\n",
    "        # Необязательный код, подстороенный под пример с небольшим количеством точек\n",
    "        cnt += 1\n",
    "        if cnt > 100000:\n",
    "            print(\"ОШИБКА!!!\")\n",
    "            break\n",
    "        \n",
    "        # Инициализация новых центров кластеров\n",
    "        new_clusters = [(0, 0)] * len(clusters)\n",
    "        # Очистка кластеров с индексами точек\n",
    "        clustersWithId = [[] for i in range(len(clusters))]\n",
    "        \n",
    "        # Пересчет новых кластеров\n",
    "        for i, point in enumerate(points):\n",
    "            # Получение id кластера, который ближе всего к точке\n",
    "            id_cluster = np.argmin([dist_points(point, clst) for clst in prev_cluters])\n",
    "            \n",
    "            # перерасчет новых кластеров\n",
    "            new_clusters[id_cluster] = (new_clusters[id_cluster][0] + point[0], \n",
    "                                        new_clusters[id_cluster][1] + point[1])\n",
    "            \n",
    "            # Добавление id точки к кластеру\n",
    "            clustersWithId[id_cluster].append(i)\n",
    "            \n",
    "        # продолжение перерасчета новых кластеров\n",
    "        for i, cluster in enumerate(new_clusters):\n",
    "            new_clusters[i] = (cluster[0] / len(clustersWithId[i]),\n",
    "                               cluster[1] / len(clustersWithId[i]))\n",
    "        \n",
    "        # Рассчет суммы расстояний между \n",
    "        sum = 0\n",
    "        for i, clst in enumerate(new_clusters):\n",
    "            sum += dist_points(clst, prev_cluters[i])\n",
    "        \n",
    "        # Условие выхода из цикла\n",
    "        if sum < epsilon:\n",
    "            print(\"Итог\")\n",
    "            print(\"Сумма расстояние между точками центров кластеров:\", sum)\n",
    "            print(\"Центры кластеров:\", new_clusters)\n",
    "            for i, elem in enumerate(clustersWithId):\n",
    "                print(\"Id точек для кластера №\", i)\n",
    "                print(elem)\n",
    "            break\n",
    "        \n",
    "        print(\"Итерация №\", cnt)\n",
    "        print(\"Сумма расстояние между точками центров кластеров:\", sum)\n",
    "        print(\"Новые центры кластеров:\", new_clusters)\n",
    "        for i, elem in enumerate(clustersWithId):\n",
    "            print(\"Id точек для кластера №\", i)\n",
    "            print(elem)\n",
    "        # Копируем получившиеся кластеры в предыдущие и производим перерасчет\n",
    "        prev_cluters = new_clusters.copy()\n",
    "    return clustersWithId, new_clusters"
   ]
  },
  {
   "cell_type": "code",
   "execution_count": 4,
   "id": "49ad2d1d-4742-4e6e-aa31-748c1e398ab0",
   "metadata": {},
   "outputs": [
    {
     "name": "stdout",
     "output_type": "stream",
     "text": [
      "Итерация № 1\n",
      "Сумма расстояние между точками центров кластеров: 14.235496347344075\n",
      "Новые центры кластеров: [(-26.28, 36.54), (-42.55, 31.625)]\n",
      "Id точек для кластера № 0\n",
      "[0, 4, 5, 6, 7]\n",
      "Id точек для кластера № 1\n",
      "[1, 2, 3, 8]\n",
      "Итог\n",
      "Сумма расстояние между точками центров кластеров: 0.0\n",
      "Центры кластеров: [(-26.28, 36.54), (-42.55, 31.625)]\n",
      "Id точек для кластера № 0\n",
      "[0, 4, 5, 6, 7]\n",
      "Id точек для кластера № 1\n",
      "[1, 2, 3, 8]\n"
     ]
    }
   ],
   "source": [
    "#Вызов функции под наши данные\n",
    "ids, new_M = KMeans_m(D, M, epsil)\n"
   ]
  },
  {
   "cell_type": "markdown",
   "id": "ed3727b0-509d-4933-8526-592c7f6b1980",
   "metadata": {},
   "source": [
    "### Пункт 1.2"
   ]
  },
  {
   "cell_type": "code",
   "execution_count": 5,
   "id": "ea1bcab2-c4c0-45cc-b33b-1de02405fb13",
   "metadata": {},
   "outputs": [],
   "source": [
    "# Функция для вывода диаграммы рассеивания для алгоритма Kmeans\n",
    "# Плюсами помечаются центры кластеров\n",
    "# clusters - центры кластеров\n",
    "# clustersWithId - разбитие на кластеры содержащие индексы точек\n",
    "# points - набор всех точек\n",
    "# colors - набор цветов для кластеров\n",
    "def diagramm(clusters, clustersWithId, points, colors):\n",
    "    # Вывод точек на график\n",
    "    for i, cluster in enumerate(clustersWithId):\n",
    "        x_val  = [points[idc][0] for idc in cluster]\n",
    "        y_val  = [points[idc][1] for idc in cluster]\n",
    "\n",
    "        plt.scatter(x_val, y_val, c = colors[i])\n",
    "        # Вывод центра класстеров\n",
    "        plt.plot(clusters[i][0], clusters[i][1], c = colors[i], marker = '+', markersize = 20)\n",
    "    \n",
    "    # Нумеруем каждую точку на диаграмме\n",
    "    cnt = 0\n",
    "    for x, y in points:\n",
    "        plt.text(x, y, cnt)\n",
    "        cnt = cnt + 1\n",
    "    # Добавление сетки    \n",
    "    plt.grid()\n",
    "    # Подпись осей\n",
    "    plt.xlabel(\"X\")\n",
    "    plt.ylabel(\"Y\")\n",
    "    plt.show()"
   ]
  },
  {
   "cell_type": "code",
   "execution_count": 6,
   "id": "99e49835-af2a-44ec-84be-9094464326a5",
   "metadata": {},
   "outputs": [
    {
     "data": {
      "image/png": "[encoded data removed]",
      "text/plain": [
       "<Figure size 640x480 with 1 Axes>"
      ]
     },
     "metadata": {},
     "output_type": "display_data"
    }
   ],
   "source": [
    "# Вызов функции для вывода диаграммы\n",
    "diagramm(new_M, ids, D, ['r', 'g'])"
   ]
  },
  {
   "cell_type": "markdown",
   "id": "4ac95482-8770-4573-b12e-2c23b35c59fe",
   "metadata": {},
   "source": [
    "### Пункт 1.3"
   ]
  },
  {
   "cell_type": "code",
   "execution_count": 7,
   "id": "b0aa14bc-da4b-4d3e-8291-08159e016511",
   "metadata": {},
   "outputs": [
    {
     "name": "stdout",
     "output_type": "stream",
     "text": [
      "Принадлежность точки к кластеру: [0 1 1 1 0 0 0 0 1]\n",
      "Id точек для кластера № 0\n",
      "lib: [0, 4, 5, 6, 7]\n",
      "my : [0, 4, 5, 6, 7]\n",
      "Id точек для кластера № 1\n",
      "lib: [1, 2, 3, 8]\n",
      "my : [1, 2, 3, 8]\n",
      "Центры кластеров в библиотечной функции:\n",
      "[[-26.28   36.54 ]\n",
      " [-42.55   31.625]]\n",
      "Центры кластеров в моей функции:\n",
      "[(-26.28, 36.54), (-42.55, 31.625)]\n"
     ]
    }
   ],
   "source": [
    "# Вызов библитечной функции для вывода диаграммы\n",
    "kmeans = KMeans(n_clusters=len(new_M), random_state=0).fit(D)\n",
    "\n",
    "print(\"Принадлежность точки к кластеру:\", kmeans.labels_)\n",
    "\n",
    "#Переведем в вид, который был дан по заданию\n",
    "ids_lib = [[] for i in range(len(new_M))]\n",
    "for i in range(len(kmeans.labels_)):\n",
    "    ids_lib[kmeans.labels_[i]].append(i)\n",
    "\n",
    "for i, elem in enumerate(ids_lib):\n",
    "    print(\"Id точек для кластера №\", i)\n",
    "    print(\"lib:\", elem)\n",
    "    print(\"my :\", ids[i])\n",
    "print(\"Центры кластеров в библиотечной функции:\", kmeans.cluster_centers_,\n",
    "      \"Центры кластеров в моей функции:\", new_M, sep = '\\n')\n"
   ]
  },
  {
   "cell_type": "markdown",
   "id": "a592cb46-8a06-44be-8039-1cd937ed9029",
   "metadata": {},
   "source": [
    "#### Сравнение:\n",
    "Результат билиотечной реализации совпал с результатом, получившимся при собственной реализации."
   ]
  },
  {
   "cell_type": "markdown",
   "id": "e89d1b04-9df0-472b-8201-8c4fab7cc669",
   "metadata": {},
   "source": [
    "### Пункт 1.4"
   ]
  },
  {
   "cell_type": "code",
   "execution_count": 8,
   "id": "6ff88471-4122-4683-a84d-ff8bb0576505",
   "metadata": {},
   "outputs": [
    {
     "name": "stdout",
     "output_type": "stream",
     "text": [
      "Итерация № 1\n",
      "Сумма расстояние между точками центров кластеров: 19.3555925525752\n",
      "Новые центры кластеров: [(-26.28, 36.54), (-32.04, 21.9)]\n",
      "Id точек для кластера № 0\n",
      "[0, 4, 5, 6, 7]\n",
      "Id точек для кластера № 1\n",
      "[1, 2, 3, 8, 9]\n",
      "Итог\n",
      "Сумма расстояние между точками центров кластеров: 0.0\n",
      "Центры кластеров: [(-26.28, 36.54), (-32.04, 21.9)]\n",
      "Id точек для кластера № 0\n",
      "[0, 4, 5, 6, 7]\n",
      "Id точек для кластера № 1\n",
      "[1, 2, 3, 8, 9]\n"
     ]
    },
    {
     "data": {
      "image/png": "[encoded data removed]",
      "text/plain": [
       "<Figure size 640x480 with 1 Axes>"
      ]
     },
     "metadata": {},
     "output_type": "display_data"
    }
   ],
   "source": [
    "#Добавим новую точку и проведем еще раз алгоритм Kmeans\n",
    "D_new = [(-25.2, 35.1), (-45,   32.2), (-40.9, 29.9),\n",
    "         (-42.3, 31.6), (-18.9, 41.3), (-30.7, 34.1),\n",
    "         (-31.2, 34.4), (-25.4, 37.8), (-42,   32.8),\n",
    "         (10, -17)]\n",
    "\n",
    "ids_n, new_M_n = KMeans_m(D_new, M, epsil)\n",
    "diagramm(new_M_n, ids_n, D_new, ['r', 'g'])\n"
   ]
  },
  {
   "cell_type": "markdown",
   "id": "3a7b4cf3-5d23-494c-b09f-ad1cab5a54c0",
   "metadata": {},
   "source": [
    "## Задание 2"
   ]
  },
  {
   "cell_type": "markdown",
   "id": "fda3da22-e5f7-431f-8473-88c141cb3679",
   "metadata": {},
   "source": [
    "Дан набор значений **X** и вероятностей их принадлежности к кластерам *C<sub>1</sub>* и *C<sub>2</sub>*:\n",
    "\n",
    "| *x*  | *P(C<sub>1</sub>\\|x)* | *P(C<sub>2</sub>\\|x)* |\n",
    "| ---- | --------------------- | --------------------- |\n",
    "|7|0|1|\n",
    "|6.9|0|1|\n",
    "|4.4|0|1|\n",
    "|19.7|0.7|0.3|\n",
    "|19.2|0.8|0.2|\n",
    "|14.8|0.9|0.1|\n",
    "|20.4|0.5|0.5|\n",
    "|10.3|0|1|\n",
    "|7.7|0|1|\n",
    "|15.2|0.9|0.1|\n",
    "\n",
    "2.1 Найдите оценку максимального правдоподобия для средних μ<sub>1</sub> и μ<sub>2</sub>\n",
    "\n",
    "2.2 Пусть μ<sub>1</sub> = **16**, μ<sub>2</sub> = **9.4** и σ<sub>1</sub> = **1.5**, σ<sub>2</sub> = **4.5**. Априорные вероятности каждого кластера P(*C<sub>1</sub>*) = **0.6**, P(*C<sub>2</sub>*) = **0.4**.\n",
    "\n",
    "Найдите вероятности принадлежности точки x = **14.3** к кластерам *C<sub>1</sub>* и *C<sub>2</sub>*"
   ]
  },
  {
   "cell_type": "markdown",
   "id": "9206256d-1ec2-4839-a35c-2a8b06d788a8",
   "metadata": {
    "tags": []
   },
   "source": [
    "### Данные"
   ]
  },
  {
   "cell_type": "code",
   "execution_count": 9,
   "id": "cdbb1af5-f034-4edb-a0f4-3976c7c1a27d",
   "metadata": {},
   "outputs": [],
   "source": [
    "# Набор значений\n",
    "X =  np.array([7, 6.9, 4.4, 19.7, 19.2, 14.8, 20.4, 10.3, 7.7, 15.2])\n",
    "# вероятность принадлежности к первому кластеру\n",
    "C1 = np.array([0, 0  , 0  , 0.7 , 0.8 , 0.9 , 0.5,  0   , 0  , 0.9])\n",
    "# вероятность принадлежности ко второму кластеру\n",
    "C2 = 1 - C1\n",
    "\n",
    "# Коэффициенты нормальных распределений\n",
    "mu_1 = 16\n",
    "mu_2 = 9.4\n",
    "sko_1 = 1.5\n",
    "sko_2 = 4.5\n",
    "# Априорные вероятности\n",
    "P_C1 = 0.6\n",
    "P_C2 = 0.4\n",
    "\n",
    "# Новая точка\n",
    "x_2 = 14.3\n"
   ]
  },
  {
   "cell_type": "markdown",
   "id": "d53a8a91-8916-42d7-84ee-694fc402c435",
   "metadata": {},
   "source": [
    "### Пункт 2.1"
   ]
  },
  {
   "cell_type": "code",
   "execution_count": 10,
   "id": "bdbf408f-fc92-4835-808c-9e275070c983",
   "metadata": {},
   "outputs": [
    {
     "name": "stdout",
     "output_type": "stream",
     "text": [
      "Оценка максимального правдоподобия для среднего μ1: 17.460526315789473\n",
      "Оценка максимального правдоподобия для среднего μ2: 9.556451612903228\n"
     ]
    }
   ],
   "source": [
    "# Рассчет оценки максимального правдоподобия\n",
    "mu_1_m = sum((X * C1))/sum(C1)\n",
    "mu_2_m = sum((X * C2))/sum(C2)\n",
    "\n",
    "print(\"Оценка максимального правдоподобия для среднего μ1:\", mu_1_m)\n",
    "print(\"Оценка максимального правдоподобия для среднего μ2:\", mu_2_m)"
   ]
  },
  {
   "cell_type": "markdown",
   "id": "c84512d4-c0c0-446d-bae8-7fbffd26a9c7",
   "metadata": {
    "tags": []
   },
   "source": [
    "### Пункт 2.2"
   ]
  },
  {
   "cell_type": "code",
   "execution_count": 11,
   "id": "43132062-40d5-4c5d-90b4-0a3b0b5e472c",
   "metadata": {},
   "outputs": [
    {
     "name": "stdout",
     "output_type": "stream",
     "text": [
      "Вероятность принадлежности точки к кластеру C1: 0.8107198986026896\n",
      "Вероятность принадлежности точки к кластеру C2: 0.18928010139731039\n"
     ]
    }
   ],
   "source": [
    "# Формула полной вероятности\n",
    "sum = stats.norm.pdf(x_2, mu_1, sko_1) * P_C1 + stats.norm.pdf(x_2, mu_2, sko_2) * P_C2\n",
    "\n",
    "# Используется формула Байеса\n",
    "C1_x_2 = stats.norm.pdf(x_2, mu_1, sko_1) * P_C1 / sum\n",
    "C2_x_2 = stats.norm.pdf(x_2, mu_2, sko_2) * P_C2 / sum\n",
    "\n",
    "print(\"Вероятность принадлежности точки к кластеру C1:\", C1_x_2)\n",
    "print(\"Вероятность принадлежности точки к кластеру C2:\", C2_x_2)"
   ]
  },
  {
   "cell_type": "markdown",
   "id": "7af83eaa-5f96-4278-95be-44312bdb264e",
   "metadata": {},
   "source": [
    "## Задание 3"
   ]
  },
  {
   "cell_type": "markdown",
   "id": "e34509c2-dc86-4641-8399-2b7e6533e164",
   "metadata": {},
   "source": [
    "Метод одиночной связи с метрикой RCДаны категориальные данные размерности 5:\n",
    "\n",
    "|           | *X<sub>1</sub>* | *X<sub>2</sub>* | *X<sub>3</sub>* | *X<sub>4</sub>* | *X<sub>5</sub>* |\n",
    "| --------------- | -------- | --------------- | --------------- | --------------- | --------------- |\n",
    "|**x<sub>0</sub>**|1|1|1|1|1|\n",
    "|**x<sub>1</sub>**|1|0|1|1|0|\n",
    "|**x<sub>2</sub>**|0|1|0|1|0|\n",
    "|**x<sub>3</sub>**|0|0|0|0|0|\n",
    "|**x<sub>4</sub>**|0|0|1|1|0|\n",
    "|**x<sub>5</sub>**|0|1|0|0|0|\n",
    "\n",
    "Близость двух наблюдений определяется через количество совпадений и несовпадений значений признаков. Допустим, что n<sub>11</sub> это количество признаков, одновременной равных 1 для наблюдений x<sub>i</sub> и x<sub>j</sub>, и n<sub>10</sub> это количество признаков, равных 1 для наблюдения x<sub>i</sub> и в то же время равных 0 для наблюдения x<sub>j</sub>. По аналогии определяются n<sub>01</sub> и n<sub>00</sub>:\n",
    "\n",
    "| x<sub>i</sub> \\ x<sub>j</sub> |       1        |       0        |\n",
    "| :---------------------------: | :------------: | :------------: |\n",
    "|               1               | n<sub>11</sub> | n<sub>10</sub> |\n",
    "|               0               | n<sub>01</sub> | n<sub>00</sub> |\n",
    "\n",
    "Даны следующие метрики:\n",
    "\n",
    "- Коэффициент простого совпадения\n",
    "  $$\n",
    "  SMC({\\bf x}_i,{\\bf x}_j)= \\frac{n_{11}+n_{00}}{n_{11}+n_{10}+n_{01}+n_{00}}\n",
    "  $$\n",
    "  \n",
    "- Коэффициент Жаккара\n",
    "  $$\n",
    "  JC({\\bf x}_i,{\\bf x}_j)= \\frac{n_{11}}{n_{11}+n_{10}+n_{01}}\n",
    "  $$\n",
    "\n",
    "- Коэффициент Рассела и Рао\n",
    "  $$\n",
    "  RC({\\bf x}_i,{\\bf x}_j)= \\frac{n_{11}}{n_{11}+n_{10}+n_{01}+n_{00}}\n",
    "  $$\n",
    "\n",
    "*Самостоятельно* реализуйте алгоритм **AgglomerativeClustering** (агломеративная иерархическая кластеризация). В качестве результата выведите список кластеров, возникающих на каждом шаге работы алгоритма.\n",
    "\n",
    "Выполните иерархическую кластеризации и постройте дендрограммы по результатам кластеризации для следующих параметров алгоритма:\n",
    "\n",
    "3.1 Метод одиночной связи с метрикой **RC**\n",
    "\n",
    "3.2 Метод полной связи с метрикой **SMC**\n",
    "\n",
    "3.3 Метод средней связи с метрикой **JC**\n",
    "\n",
    "На дендрограммах подпишите точки (по оси x) и уровни (по оси y)"
   ]
  },
  {
   "cell_type": "markdown",
   "id": "f4e983be-df33-4e98-b4e2-ff9722628ab6",
   "metadata": {},
   "source": [
    "### Данные"
   ]
  },
  {
   "cell_type": "code",
   "execution_count": 40,
   "id": "053aa93d-368d-4dbf-862a-fb44bf55a402",
   "metadata": {},
   "outputs": [],
   "source": [
    "# Категориальные данные\n",
    "X_matr = ([[1, 1, 1, 1, 1],\n",
    "           [1, 0, 1, 1, 0],\n",
    "           [0, 1, 0, 1, 0],\n",
    "           [0, 0, 0, 0, 0],\n",
    "           [0, 0, 1, 1, 0],\n",
    "           [0, 1, 0, 0, 0]])"
   ]
  },
  {
   "cell_type": "markdown",
   "id": "131e5f8b-51e1-48b3-a00b-d91a3e2f0597",
   "metadata": {},
   "source": [
    "### Функции для рассчета матрицы расстояний для разных метрик"
   ]
  },
  {
   "cell_type": "code",
   "execution_count": 57,
   "id": "9e4b8029-5027-4769-927f-8bc73a5241a0",
   "metadata": {},
   "outputs": [],
   "source": [
    "# Функция для рассчета метрики с помощью Рассела и Рао\n",
    "# u, v - точки, между которыми будет рассчитываться расстояние\n",
    "# return:\n",
    "# float - расстояние между точками (не схожесть)\n",
    "def f_rc(u, v):\n",
    "    up = 0\n",
    "    low = 0\n",
    "    for k in range(len(u)):\n",
    "        if (u[k] == v[k] and u[k] == 1):\n",
    "            up += 1\n",
    "        low += 1\n",
    "    return 1 - up / low\n",
    "\n",
    "# Функция для рассчета метрики с помощью простого совпадения\n",
    "# u, v - точки, между которыми будет рассчитываться расстояние\n",
    "# return:\n",
    "# float - расстояние между точками (не схожесть)\n",
    "def f_smc(u, v):\n",
    "    up = 0\n",
    "    low = 0\n",
    "    for k in range(len(u)):\n",
    "        if (u[k] == v[k]):\n",
    "            up += 1\n",
    "        low += 1\n",
    "    return 1 - up / low\n",
    "\n",
    "# Функция для рассчета метрики с помощью Жаккара\n",
    "# u, v - точки, между которыми будет рассчитываться расстояние\n",
    "# return:\n",
    "# float - расстояние между точками (не схожесть)\n",
    "def f_jc(u, v):\n",
    "    up = 0\n",
    "    low = 0\n",
    "    for k in range(len(u)):\n",
    "        if (u[k] == v[k] and u[k] == 0):\n",
    "            continue\n",
    "        if (u[k] == v[k]):\n",
    "            up += 1\n",
    "        low += 1\n",
    "    if low == 0:\n",
    "        return 1.\n",
    "    return 1 - up / low\n",
    "\n",
    "# Функция для рассчета матрицы расстояний между наблюдениями\n",
    "# matr_in - матрица с категориальными данными\n",
    "# f_metr - функция для рассчета метрики между двумя наблюдениями\n",
    "# return:\n",
    "# list(list()) - Матрицу n * n наблюдений с рассчитаными расстояниями (Симметричная матрица с нулевой диагональю)\n",
    "def dist_metr(matr_in, f_metr):\n",
    "    # Инициализация матрицы расстояний\n",
    "    matr_out = [[0. for col in range(len(matr_in))] for row in range(len(matr_in))]\n",
    "    # Проход по всем парам\n",
    "    for i in range(len(matr_in)):\n",
    "        for j in range(i + 1, len(matr_in)):\n",
    "            matr_out[i][j] = f_metr(matr_in[i], matr_in[j])\n",
    "            matr_out[j][i] = matr_out[i][j]\n",
    "    return matr_out\n",
    "\n",
    "# Функция для обновления матрицы расстояний между кластерами\n",
    "# matr_dist - матрица расстояний\n",
    "# elem_1, elem_2 - индексы объединяющихся кластеров\n",
    "# method - функция для метода рассчета расстояний между кластерами\n",
    "# recalc_method - функция для перепасчета чего-нибудь в методе (используется для метода средней связи)\n",
    "# string - название метода (используется для метода средней связи)\n",
    "# return:\n",
    "# list(list()) - Матрицу m * m с перерассчитанными расстояниями (Симметричная матрица с нулевой диагональю)\n",
    "def recalc_dist(matr_dist, elem_1, elem_2, method, recalc_method = lambda elem_1, elem_2: None, string = None):\n",
    "    # инициализация новой матрицы\n",
    "    new_matr = matr_dist.copy()\n",
    "    # Цикл для перерасчета расстояний между кластерами (между объединенным кластром и остальными)\n",
    "    for i in range(len(matr_dist)):\n",
    "        if i != elem_2 or i != elem_1:\n",
    "            # Проверка на метод средней связи\n",
    "            if string == \"average\":\n",
    "                new_matr[elem_1][i] = method(matr_dist[elem_1][i], matr_dist[elem_2][i], elem_1, elem_2)\n",
    "                new_matr[i][elem_1] = matr_dist[elem_1][i]\n",
    "            else:\n",
    "                new_matr[elem_1][i] = method(matr_dist[elem_1][i], matr_dist[elem_2][i])\n",
    "                new_matr[i][elem_1] = matr_dist[elem_1][i]\n",
    "    \n",
    "    # Удаление лишнего кластера из матрицы расстояний\n",
    "    for i in range(len(new_matr)):\n",
    "        new_matr[i].pop(elem_2)\n",
    "    new_matr.pop(elem_2)\n",
    "    \n",
    "    # Вызов на перерасчет для метода (специально для средней связи)\n",
    "    recalc_method(elem_1, elem_2)\n",
    "    \n",
    "    return new_matr"
   ]
  },
  {
   "cell_type": "code",
   "execution_count": 58,
   "id": "dbe12d62-b14b-4b1b-b5c6-d812351a0193",
   "metadata": {},
   "outputs": [
    {
     "name": "stdout",
     "output_type": "stream",
     "text": [
      "Матрица расстояний SMC:\n",
      "[0.0, 0.4, 0.6, 1.0, 0.6, 0.8]\n",
      "[0.4, 0.0, 0.6, 0.6, 0.19999999999999996, 0.8]\n",
      "[0.6, 0.6, 0.0, 0.4, 0.4, 0.19999999999999996]\n",
      "[1.0, 0.6, 0.4, 0.0, 0.4, 0.19999999999999996]\n",
      "[0.6, 0.19999999999999996, 0.4, 0.4, 0.0, 0.6]\n",
      "[0.8, 0.8, 0.19999999999999996, 0.19999999999999996, 0.6, 0.0]\n",
      "\n",
      "Матрица расстояний RC:\n",
      "[0.0, 0.4, 0.6, 1.0, 0.6, 0.8]\n",
      "[0.4, 0.0, 0.8, 1.0, 0.6, 1.0]\n",
      "[0.6, 0.8, 0.0, 1.0, 0.8, 0.8]\n",
      "[1.0, 1.0, 1.0, 0.0, 1.0, 1.0]\n",
      "[0.6, 0.6, 0.8, 1.0, 0.0, 1.0]\n",
      "[0.8, 1.0, 0.8, 1.0, 1.0, 0.0]\n",
      "\n",
      "Матрица расстояний JC:\n",
      "[0.0, 0.4, 0.6, 1.0, 0.6, 0.8]\n",
      "[0.4, 0.0, 0.75, 1.0, 0.33333333333333337, 1.0]\n",
      "[0.6, 0.75, 0.0, 1.0, 0.6666666666666667, 0.5]\n",
      "[1.0, 1.0, 1.0, 0.0, 1.0, 1.0]\n",
      "[0.6, 0.33333333333333337, 0.6666666666666667, 1.0, 0.0, 1.0]\n",
      "[0.8, 1.0, 0.5, 1.0, 1.0, 0.0]\n",
      "\n"
     ]
    }
   ],
   "source": [
    "# Пример рассчета матрицы расстояний для разных метрик\n",
    "dist_smc = dist_metr(X_matr, f_smc)\n",
    "dist_jc = dist_metr(X_matr, f_jc)\n",
    "dist_rc = dist_metr(X_matr, f_rc)\n",
    "\n",
    "print(\"Матрица расстояний SMC:\")\n",
    "for elem in dist_smc:\n",
    "    print(elem)\n",
    "print()\n",
    "\n",
    "print(\"Матрица расстояний RC:\")\n",
    "for elem in dist_rc:\n",
    "    print(elem)\n",
    "print()\n",
    "\n",
    "print(\"Матрица расстояний JC:\")\n",
    "for elem in dist_jc:\n",
    "    print(elem)\n",
    "print()"
   ]
  },
  {
   "cell_type": "code",
   "execution_count": 59,
   "id": "bc3d1fc7-59a5-47a3-99ce-01493602c2c8",
   "metadata": {},
   "outputs": [],
   "source": [
    "# Функция для работы с алгоритмом agglomerative\n",
    "# matr - матрица с категориальными данными\n",
    "# f_metr - функция для рассчета метрики между 2 наблюдениями\n",
    "# method - функция для метода рассчета расстояний между двумя кластерами\n",
    "# recalc_method - функция для перепасчета чего-нибудь в методе (используется для метода средней связи)\n",
    "# string - название метода (используется для метода средней связи)\n",
    "def Agglomerative(matr, f_metr, method, recalc_method = lambda elem_1, elem_2: None, string = None):    \n",
    "    # Инициализация начальных кластеров\n",
    "    cluster = [[num for i in range(1)] for num in range(len(matr))]\n",
    "    # Рассчет матрицы расттояний\n",
    "    dist = dist_metr(matr, f_metr)\n",
    "    # Количество кластеров\n",
    "    k = len(matr)\n",
    "    while k != 1:\n",
    "        # Инициализация индексов кластеров с минимальным расстоянием\n",
    "        min_i = 0\n",
    "        min_j = 1\n",
    "        # Поиск индексов кластеров с минимальным расстоянием\n",
    "        for i in range(len(cluster)):\n",
    "            for j in range(i + 1, len(cluster)):\n",
    "                if (dist[i][j] < dist[min_i][min_j]):\n",
    "                    min_i = i\n",
    "                    min_j = j\n",
    "        # Объединение пары кластеров\n",
    "        for elem in cluster[min_j]:\n",
    "            cluster[min_i].append(elem)\n",
    "        # Сортировка элементов кластера\n",
    "        cluster[min_i].sort()\n",
    "        # Удаление лишнего кластера\n",
    "        cluster.pop(min_j)\n",
    "        # Обновление матрицы расстояний между кластерами\n",
    "        dist = recalc_dist(dist, min_i, min_j, method, recalc_method, string)\n",
    "        # Уменьшение количества кластеров\n",
    "        k -= 1\n",
    "        print(min_i, min_j)\n",
    "        print(\"Кластеры:\")\n",
    "        print(cluster)\n",
    "        print(\"Матрица расстояний для кластеров:\")\n",
    "        for elem in dist:\n",
    "            print(elem)\n",
    "        print() "
   ]
  },
  {
   "cell_type": "markdown",
   "id": "a6fb9b77-7d76-4d9d-81de-1842d41ede55",
   "metadata": {},
   "source": [
    "### Пункт 3.1"
   ]
  },
  {
   "cell_type": "code",
   "execution_count": 60,
   "id": "4d842e2f-8d86-49c2-8962-cba951a12f68",
   "metadata": {},
   "outputs": [
    {
     "name": "stdout",
     "output_type": "stream",
     "text": [
      "0 1\n",
      "Кластеры:\n",
      "[[0, 1], [2], [3], [4], [5]]\n",
      "Матрица расстояний для кластеров:\n",
      "[0.0, 0.6, 1.0, 0.6, 0.8]\n",
      "[0.6, 0.0, 1.0, 0.8, 0.8]\n",
      "[1.0, 1.0, 0.0, 1.0, 1.0]\n",
      "[0.6, 0.8, 1.0, 0.0, 1.0]\n",
      "[0.8, 0.8, 1.0, 1.0, 0.0]\n",
      "\n",
      "0 1\n",
      "Кластеры:\n",
      "[[0, 1, 2], [3], [4], [5]]\n",
      "Матрица расстояний для кластеров:\n",
      "[0.0, 1.0, 0.6, 0.8]\n",
      "[1.0, 0.0, 1.0, 1.0]\n",
      "[0.6, 1.0, 0.0, 1.0]\n",
      "[0.8, 1.0, 1.0, 0.0]\n",
      "\n",
      "0 2\n",
      "Кластеры:\n",
      "[[0, 1, 2, 4], [3], [5]]\n",
      "Матрица расстояний для кластеров:\n",
      "[0.0, 1.0, 0.8]\n",
      "[1.0, 0.0, 1.0]\n",
      "[0.8, 1.0, 0.0]\n",
      "\n",
      "0 2\n",
      "Кластеры:\n",
      "[[0, 1, 2, 4, 5], [3]]\n",
      "Матрица расстояний для кластеров:\n",
      "[0.0, 1.0]\n",
      "[1.0, 0.0]\n",
      "\n",
      "0 1\n",
      "Кластеры:\n",
      "[[0, 1, 2, 3, 4, 5]]\n",
      "Матрица расстояний для кластеров:\n",
      "[0.0]\n",
      "\n"
     ]
    }
   ],
   "source": [
    "# Метод одиночной связи с метрикой RC\n",
    "Agglomerative(X_matr, f_rc, min)    "
   ]
  },
  {
   "cell_type": "code",
   "execution_count": 45,
   "id": "49e0e81e-444d-4381-b3e0-9f053a2cdb49",
   "metadata": {},
   "outputs": [
    {
     "data": {
      "image/png": "[encoded data removed]",
      "text/plain": [
       "<Figure size 640x480 with 1 Axes>"
      ]
     },
     "metadata": {},
     "output_type": "display_data"
    }
   ],
   "source": [
    "# Массив расстояний (верхний треугольник расстояний разложенный в массив)\n",
    "a = pdist(X_matr, lambda u, v: f_rc(u, v))\n",
    "# Библиотечный рассчет метода одиночной связи для получения нужной матрицы\n",
    "Z = hierarchy.linkage(a, 'single')\n",
    "# запись значения y для дендрограммы\n",
    "for i, elem in enumerate(Z):\n",
    "    elem[2] = i + 1\n",
    "# Вывод дендрограммы\n",
    "plt.figure()\n",
    "dn = hierarchy.dendrogram(Z)  "
   ]
  },
  {
   "cell_type": "markdown",
   "id": "ee227704-a05c-40f6-af94-caf5612daa31",
   "metadata": {},
   "source": [
    "### Пункт 3.2"
   ]
  },
  {
   "cell_type": "code",
   "execution_count": 61,
   "id": "ddc738b6-8312-4029-bfa3-7f2666aa6f97",
   "metadata": {},
   "outputs": [
    {
     "name": "stdout",
     "output_type": "stream",
     "text": [
      "1 4\n",
      "Кластеры:\n",
      "[[0], [1, 4], [2], [3], [5]]\n",
      "Матрица расстояний для кластеров:\n",
      "[0.0, 0.6, 0.6, 1.0, 0.8]\n",
      "[0.6, 0.19999999999999996, 0.6, 0.6, 0.8]\n",
      "[0.6, 0.6, 0.0, 0.4, 0.19999999999999996]\n",
      "[1.0, 0.6, 0.4, 0.0, 0.19999999999999996]\n",
      "[0.8, 0.8, 0.19999999999999996, 0.19999999999999996, 0.0]\n",
      "\n",
      "2 4\n",
      "Кластеры:\n",
      "[[0], [1, 4], [2, 5], [3]]\n",
      "Матрица расстояний для кластеров:\n",
      "[0.0, 0.6, 0.8, 1.0]\n",
      "[0.6, 0.19999999999999996, 0.8, 0.6]\n",
      "[0.8, 0.8, 0.19999999999999996, 0.4]\n",
      "[1.0, 0.6, 0.4, 0.0]\n",
      "\n",
      "2 3\n",
      "Кластеры:\n",
      "[[0], [1, 4], [2, 3, 5]]\n",
      "Матрица расстояний для кластеров:\n",
      "[0.0, 0.6, 1.0]\n",
      "[0.6, 0.19999999999999996, 0.8]\n",
      "[1.0, 0.8, 0.4]\n",
      "\n",
      "0 1\n",
      "Кластеры:\n",
      "[[0, 1, 4], [2, 3, 5]]\n",
      "Матрица расстояний для кластеров:\n",
      "[0.6, 1.0]\n",
      "[1.0, 0.4]\n",
      "\n",
      "0 1\n",
      "Кластеры:\n",
      "[[0, 1, 2, 3, 4, 5]]\n",
      "Матрица расстояний для кластеров:\n",
      "[1.0]\n",
      "\n"
     ]
    }
   ],
   "source": [
    "# Метод полной связи с метрикой SMC\n",
    "Agglomerative(X_matr, f_smc, max)"
   ]
  },
  {
   "cell_type": "code",
   "execution_count": 62,
   "id": "b54c8b68-621e-4435-989a-a7ba7ab04011",
   "metadata": {},
   "outputs": [
    {
     "data": {
      "image/png": "[encoded data removed]",
      "text/plain": [
       "<Figure size 640x480 with 1 Axes>"
      ]
     },
     "metadata": {},
     "output_type": "display_data"
    }
   ],
   "source": [
    "# Массив расстояний (верхний треугольник расстояний разложенный в массив)\n",
    "a = pdist(X_matr, lambda u, v: f_smc(u, v))\n",
    "\n",
    "# Библиотечный рассчет метода полной связи для получения нужной матрицы\n",
    "Z = hierarchy.linkage(a, 'complete')\n",
    "\n",
    "# запись значения y для дендрограммы\n",
    "for i, elem in enumerate(Z):\n",
    "    elem[2] = i + 1\n",
    "\n",
    "# Вывод дендрограммы\n",
    "plt.figure()\n",
    "dn = hierarchy.dendrogram(Z)\n"
   ]
  },
  {
   "cell_type": "markdown",
   "id": "0d71cca3-2c69-4e8c-94a6-541a4a514e42",
   "metadata": {},
   "source": [
    "### Пункт 3.3"
   ]
  },
  {
   "cell_type": "code",
   "execution_count": 63,
   "id": "33e14eab-6a84-4669-acfb-a17e95641512",
   "metadata": {},
   "outputs": [
    {
     "name": "stdout",
     "output_type": "stream",
     "text": [
      "1 4\n",
      "Кластеры:\n",
      "[[0], [1, 4], [2], [3], [5]]\n",
      "Матрица расстояний для кластеров:\n",
      "[0.0, 0.5, 0.6, 1.0, 0.8]\n",
      "[0.5, 0.16666666666666669, 0.7083333333333334, 1.0, 1.0]\n",
      "[0.6, 0.7083333333333334, 0.0, 1.0, 0.5]\n",
      "[1.0, 1.0, 1.0, 0.0, 1.0]\n",
      "[0.8, 1.0, 0.5, 1.0, 0.0]\n",
      "\n",
      "0 1\n",
      "Кластеры:\n",
      "[[0, 1, 4], [2], [3], [5]]\n",
      "Матрица расстояний для кластеров:\n",
      "[0.3333333333333333, 0.6722222222222222, 1.0, 0.9333333333333332]\n",
      "[0.6722222222222222, 0.0, 1.0, 0.5]\n",
      "[1.0, 1.0, 0.0, 1.0]\n",
      "[0.9333333333333332, 0.5, 1.0, 0.0]\n",
      "\n",
      "1 3\n",
      "Кластеры:\n",
      "[[0, 1, 4], [2, 5], [3]]\n",
      "Матрица расстояний для кластеров:\n",
      "[0.3333333333333333, 0.8027777777777777, 1.0]\n",
      "[0.8027777777777777, 0.25, 1.0]\n",
      "[1.0, 1.0, 0.0]\n",
      "\n",
      "0 1\n",
      "Кластеры:\n",
      "[[0, 1, 2, 4, 5], [3]]\n",
      "Матрица расстояний для кластеров:\n",
      "[0.5211111111111111, 1.0]\n",
      "[1.0, 0.0]\n",
      "\n",
      "0 1\n",
      "Кластеры:\n",
      "[[0, 1, 2, 3, 4, 5]]\n",
      "Матрица расстояний для кластеров:\n",
      "[0.6009259259259259]\n",
      "\n"
     ]
    }
   ],
   "source": [
    "# Количество элементов в кластерах\n",
    "count_cluster = [1] * len(X_matr)\n",
    "\n",
    "# Функция для метода средней связи\n",
    "# u, v - расстояния между кластерами\n",
    "# elem_1, elem_2 - Номера кластеров, которые объединяются в один\n",
    "# return:\n",
    "# float - полученное расстояние между объединенным кластером и другим кластером\n",
    "def average(u, v, elem_1, elem_2):\n",
    "    return (u * count_cluster[elem_1] + v * count_cluster[elem_2]) / \\\n",
    "           (count_cluster[elem_1] + count_cluster[elem_2])\n",
    "\n",
    "# Функция для изменения количества элементов в кластерах\n",
    "# elem_1, elem_2 - Номера кластеров, которые объединяются в один\n",
    "def recalc_count(elem_1, elem_2):\n",
    "    # Количество элементов в объединенном кластере\n",
    "    count_cluster[elem_1] += count_cluster[elem_2]\n",
    "    # Удаление лишнего кластера\n",
    "    count_cluster.pop(elem_2)\n",
    "    \n",
    "# Метод средней связи с метрикой JC\n",
    "Agglomerative(X_matr, f_jc, average, recalc_count, \"average\")"
   ]
  },
  {
   "cell_type": "code",
   "execution_count": 64,
   "id": "8dbfbfed-2521-4ea5-9b90-06f00cf6257d",
   "metadata": {},
   "outputs": [
    {
     "data": {
      "image/png": "[encoded data removed]",
      "text/plain": [
       "<Figure size 640x480 with 1 Axes>"
      ]
     },
     "metadata": {},
     "output_type": "display_data"
    }
   ],
   "source": [
    "# Массив расстояний (верхний треугольник расстояний разложенный в массив)\n",
    "a = pdist(X_matr, lambda u, v: f_jc(u, v))\n",
    "\n",
    "# Библиотечный рассчет метода средней связи для получения нужной матрицы\n",
    "Z = hierarchy.linkage(a, 'average')\n",
    "\n",
    "# запись значения y для дендрограммы\n",
    "for i, elem in enumerate(Z):\n",
    "    elem[2] = i + 1\n",
    "\n",
    "# Вывод дендрограммы    \n",
    "plt.figure()\n",
    "dn = hierarchy.dendrogram(Z)"
   ]
  },
  {
   "cell_type": "markdown",
   "id": "09de783a-4d25-47ca-b910-6700c3026472",
   "metadata": {
    "tags": []
   },
   "source": [
    "## Задание 4"
   ]
  },
  {
   "cell_type": "markdown",
   "id": "2b7aea0d-36a4-499c-9c7a-7bd78f633bcc",
   "metadata": {},
   "source": [
    "Дан рисунок:\n",
    "\n",
    "![plot](n5_7_1.png)\n",
    "\n",
    "Даны следующие метрики:\n",
    "\n",
    "- Метрика **1**\n",
    "$$\n",
    "L_{N}({\\bf x},{\\bf y})= \\sqrt{\\sum_{i=1}^n{(x_i-y_i)^2}}\n",
    "$$\n",
    "- Метрика **2**\n",
    "$$\n",
    "L_{\\frac{1}{2}}({\\bf x},{\\bf y})= (\\sum_{i=1}^n{\\sqrt {|x_i-y_i|}})^2\n",
    "$$\n",
    "- Метрика **3**\n",
    "$$\n",
    "L_{max}({\\bf x},{\\bf y})= \\max_{i=1}^n\\{{|x_i-y_i|}\\}\n",
    "$$\n",
    "- Метрика **4**\n",
    "$$\n",
    "L_{min}({\\bf x},{\\bf y})= \\min_{i=1}^n\\{{|x_i-y_i|}\\}\n",
    "$$\n",
    "- Метрика **5**\n",
    "$$\n",
    "L_{pow}({\\bf x},{\\bf y})= \\sqrt{\\sum_{i=1}^n2^{i-1}(x_i-y_i)^2}\n",
    "$$\n",
    "\n",
    "*Самостоятельно* реализуйте алгоритм **DBSCAN**. В качестве результата выведите список кластеров **C**, базовых точек **O**, граничных точек **B**, выпавших точек (шумов) **N**. Постройте диаграмму рассеяния, на которой будут отображены все точки, отображена их принадлежность кластеру, а также выпавшие точки (вид диаграммы аналогичен диаграмме из задания 1.2)\n",
    "\n",
    "Выполните кластеризацию и построение диаграмм для следующих параметров алгоритма:\n",
    "\n",
    "4.1 Метрика **1**, ϵ = **2**, minPts = **2**\n",
    "\n",
    "4.2 Метрика **2**, ϵ = **4**, minPts = **4**\n",
    "\n",
    "4.3 Метрика **3**, ϵ = **2**, minPts = **6**\n",
    "\n",
    "4.4 Метрика **4**, ϵ = **1**, minPts = **5**\n",
    "\n",
    "4.5 Метрика **5**, ϵ = **3**, minPts = **4**"
   ]
  },
  {
   "cell_type": "markdown",
   "id": "0c80853f-7697-4056-9bff-b145c9a3de26",
   "metadata": {},
   "source": [
    "### Данные"
   ]
  },
  {
   "cell_type": "code",
   "execution_count": 22,
   "id": "a3006158-b29b-4869-bbf1-603f7cb3531f",
   "metadata": {},
   "outputs": [],
   "source": [
    "# Данные точки\n",
    "Points = [(11, 5), (12, 4), (3,  8), (11, 3), (17, 7), (4,  9), (12, 6), (12, 3), (1,  9), (15, 7), \n",
    "          (8,  1), (2, 10), (19, 5), (3,  9), (7,  7), (3, 10), (8,  2), (12, 1), (17, 2), (11, 1),\n",
    "          (18, 4), (9,  1), (5, 10), (11, 4), (13, 2)]"
   ]
  },
  {
   "cell_type": "markdown",
   "id": "acf451f2-5307-4259-8bbf-6ce44ae72696",
   "metadata": {},
   "source": [
    "### Функции для выполнения задания"
   ]
  },
  {
   "cell_type": "code",
   "execution_count": 23,
   "id": "9aacd614-761b-4e08-a4c2-6b14943fdc05",
   "metadata": {},
   "outputs": [],
   "source": [
    "# Функция для рассчета метрики\n",
    "# x, y - точки\n",
    "# return:\n",
    "# float - расстояние между точками\n",
    "def metric_1(x, y):\n",
    "    return ((x[0] - y[0])**2 + (x[1] - y[1])**2)**(1/2)\n",
    "\n",
    "# Функция для рассчета метрики\n",
    "# x, y - точки\n",
    "# return:\n",
    "# float - расстояние между точками\n",
    "def metric_2(x, y):\n",
    "    return ((abs(x[0] - y[0]))**(1/2) + (abs(x[1] - y[1]))**(1/2))**(2)\n",
    "\n",
    "# Функция для рассчета метрики\n",
    "# x, y - точки\n",
    "# return:\n",
    "# float - расстояние между точками\n",
    "def metric_3(x, y):\n",
    "    return max(abs(x[0] - y[0]),  abs(x[1] - y[1]))\n",
    "\n",
    "# Функция для рассчета метрики\n",
    "# x, y - точки\n",
    "# return:\n",
    "# float - расстояние между точками\n",
    "def metric_4(x, y):\n",
    "    return min(abs(x[0] - y[0]),  abs(x[1] - y[1]))\n",
    "\n",
    "# Функция для рассчета метрики\n",
    "# x, y - точки\n",
    "# return:\n",
    "# float - расстояние между точками\n",
    "def metric_5(x, y):\n",
    "    return ((x[0] - y[0])**2 + 2 * (x[1] - y[1])**2)**(1/2)\n",
    "\n",
    "# Функция для добавление точек из эпсилон окресности в кластер\n",
    "# N_epsil - список точек принадлежащих конкретной точке в эпсилон окрестности\n",
    "# id_clust - список с id кластерами для каждой точки\n",
    "# Core - список базовых точек\n",
    "# num_point - номер текущаей точки\n",
    "# k - номер кластера\n",
    "def density_connect(N_epsil, id_clust, Core, num_point, k):\n",
    "    # проход по эпсилон окрестности точки\n",
    "    for i in N_epsil[num_point]:\n",
    "        # Если заходили в эту точку выполняем следующий шаг цикла\n",
    "        if id_clust[i] != -1:\n",
    "            continue\n",
    "        # i точка к k кластеру\n",
    "        id_clust[i] = k\n",
    "        # Если i точка базовая. то запускаем рекурсию\n",
    "        if Core.count(i) > 0:\n",
    "            density_connect(N_epsil, id_clust, Core, i, k)\n",
    "\n",
    "# Функция для работы алгоритма DBScan\n",
    "# points - набор всех точек\n",
    "# metric - функция для подсчета расстояния между 2 точками\n",
    "# minPts - сколько точек должно быть минимально в эпсилон окрестности, чтобы считать её базовой\n",
    "# epsilon - размер эпсилон окрестности\n",
    "# return:\n",
    "# list(list(int)) - Список кластеров содержащие индексы точек  \n",
    "# list() - базовые точки\n",
    "# list() - граничные точки\n",
    "# list() - шумовые точки\n",
    "def dbscan(points, metric, minPts, epsilon):\n",
    "    # Инициализация базовых точек\n",
    "    Core = []\n",
    "     # Инициализация кластеров\n",
    "    clustersWithId = []\n",
    "    # Инициализация список точек принадлежащих конкретной точке в эпсилон окрестности\n",
    "    N_epsil = [[] for i in range(len(points))]\n",
    "    # Инициализация точек, что они не принадлежат ни одному кластеру\n",
    "    id_clust = [-1] * len(points)\n",
    "    \n",
    "    # Рассчет всех эпселон окрестностей\n",
    "    for i, point in enumerate(points):\n",
    "        for j, point_t in enumerate(points):\n",
    "            if point != point_t:\n",
    "                if metric(point, point_t) <= epsilon:\n",
    "                    N_epsil[i].append(j)\n",
    "        \n",
    "        # Если количество точек превышает minPts, то добавляем точку к базовым\n",
    "        if len(N_epsil[i]) >= minPts:\n",
    "            Core.append(i)\n",
    "    \n",
    "    print(\"Эпсилон окрестности:\")\n",
    "    for i, elem in enumerate(N_epsil):\n",
    "        print(\"Для точки\", i, \":\", elem)\n",
    "    \n",
    "    k = -1\n",
    "    # Цикл по базовым точкам и добавления их в кластеры\n",
    "    for i in Core:\n",
    "        # Если были в этой точке, то пропускаем\n",
    "        if id_clust[i] != -1:\n",
    "            continue\n",
    "        k += 1\n",
    "        # Присваеиваем этой точке номер кластера\n",
    "        id_clust[i] = k\n",
    "        # Запускаем добавление точек в кластеры, по эпсилон окрестности \n",
    "        density_connect(N_epsil, id_clust, Core, i, k)\n",
    "    \n",
    "    # Разбитие на кластеры содержащие индексы точек  \n",
    "    clustersWithId = [[id_point for id_point, elem in enumerate(id_clust) if elem == i] for i in range(k + 1)]\n",
    "    # Поиск шумов\n",
    "    Noise = [i for i, elem in enumerate(id_clust) if elem == -1]\n",
    "    # Поиск граничных точек\n",
    "    Border = [i for i, elem in enumerate(id_clust) if elem != -1 and Core.count(i) == 0]\n",
    "    \n",
    "    return clustersWithId, Core, Border, Noise\n",
    "\n",
    "\n",
    "# Функция для вывода диаграммы рассеивания для алгоритма DBSCAN\n",
    "# Звездочками помечаются шумы\n",
    "# points - набор всех точек\n",
    "# clustersWithId - разбитие на кластеры содержащие индексы точек\n",
    "# noise - \"шумные\" точки\n",
    "def diogramma_db(points, clustersWithId, noise):\n",
    "    # Вывод точек на график\n",
    "    for i, cluster in enumerate(clustersWithId):\n",
    "        x_val  = [points[idc][0] for idc in cluster]\n",
    "        y_val  = [points[idc][1] for idc in cluster]\n",
    "\n",
    "        plt.scatter(x_val, y_val)\n",
    "    \n",
    "    # Вывод шумов\n",
    "    x_val  = [points[idc][0] for idc in noise]\n",
    "    y_val  = [points[idc][1] for idc in noise]\n",
    "    plt.scatter(x_val, y_val, c = 'black', marker = '*')\n",
    "    \n",
    "    # Нумеруем каждую точку на диаграмме\n",
    "    cnt = 0\n",
    "    for x, y in points:\n",
    "        plt.text(x, y, cnt)\n",
    "        cnt = cnt + 1\n",
    "    # Добавление сетки    \n",
    "    plt.grid()\n",
    "    # Подпись осей\n",
    "    plt.xlabel(\"X\")\n",
    "    plt.ylabel(\"Y\")\n",
    "    plt.show()"
   ]
  },
  {
   "cell_type": "markdown",
   "id": "a9d0c32e-b405-4782-847a-221cfb50c28f",
   "metadata": {},
   "source": [
    "### Пункт 4.1"
   ]
  },
  {
   "cell_type": "code",
   "execution_count": 24,
   "id": "8b81c251-c512-4a73-a56f-a83919b149f3",
   "metadata": {},
   "outputs": [
    {
     "name": "stdout",
     "output_type": "stream",
     "text": [
      "Эпсилон окрестности:\n",
      "Для точки 0 : [1, 3, 6, 23]\n",
      "Для точки 1 : [0, 3, 6, 7, 23]\n",
      "Для точки 2 : [5, 13, 15]\n",
      "Для точки 3 : [0, 1, 7, 19, 23]\n",
      "Для точки 4 : [9]\n",
      "Для точки 5 : [2, 13, 15, 22]\n",
      "Для точки 6 : [0, 1]\n",
      "Для точки 7 : [1, 3, 17, 23, 24]\n",
      "Для точки 8 : [11, 13]\n",
      "Для точки 9 : [4]\n",
      "Для точки 10 : [16, 21]\n",
      "Для точки 11 : [8, 13, 15]\n",
      "Для точки 12 : [20]\n",
      "Для точки 13 : [2, 5, 8, 11, 15]\n",
      "Для точки 14 : []\n",
      "Для точки 15 : [2, 5, 11, 13, 22]\n",
      "Для точки 16 : [10, 21]\n",
      "Для точки 17 : [7, 19, 24]\n",
      "Для точки 18 : []\n",
      "Для точки 19 : [3, 17, 21]\n",
      "Для точки 20 : [12]\n",
      "Для точки 21 : [10, 16, 19]\n",
      "Для точки 22 : [5, 15]\n",
      "Для точки 23 : [0, 1, 3, 7]\n",
      "Для точки 24 : [7, 17]\n",
      "Id точек для кластера № 0\n",
      "[0, 1, 3, 6, 7, 10, 16, 17, 19, 21, 23, 24]\n",
      "Id точек для кластера № 1\n",
      "[2, 5, 8, 11, 13, 15, 22]\n",
      "Базовые точки: [0, 1, 2, 3, 5, 6, 7, 8, 10, 11, 13, 15, 16, 17, 19, 21, 22, 23, 24]\n",
      "'Шумные' точки: [4, 9, 12, 14, 18, 20]\n",
      "Граничные точки: []\n"
     ]
    },
    {
     "data": {
      "image/png": "[encoded data removed]",
      "text/plain": [
       "<Figure size 640x480 with 1 Axes>"
      ]
     },
     "metadata": {},
     "output_type": "display_data"
    }
   ],
   "source": [
    "# Использование dbscan для первой метрики с eps = 2 и minpts = 2\n",
    "clustersWithId, Core, border, noise = dbscan(Points, metric_1, 2, 2)\n",
    "for i, elem in enumerate(clustersWithId):\n",
    "    print(\"Id точек для кластера №\", i)\n",
    "    print(elem)\n",
    "print(\"Базовые точки:\", Core)\n",
    "print(\"'Шумные' точки:\", noise)\n",
    "print(\"Граничные точки:\", border)\n",
    "\n",
    "# Вывод диаграммы\n",
    "diogramma_db(Points, clustersWithId, noise)"
   ]
  },
  {
   "cell_type": "markdown",
   "id": "08ac3e69-7beb-4872-af98-9e12144472f3",
   "metadata": {},
   "source": [
    "### Пункт 4.2"
   ]
  },
  {
   "cell_type": "code",
   "execution_count": 25,
   "id": "0003472b-6383-4d08-bc40-bfb12a50208e",
   "metadata": {},
   "outputs": [
    {
     "name": "stdout",
     "output_type": "stream",
     "text": [
      "Эпсилон окрестности:\n",
      "Для точки 0 : [3, 23]\n",
      "Для точки 1 : [6, 7, 17, 23]\n",
      "Для точки 2 : [13, 15]\n",
      "Для точки 3 : [0, 7, 19, 23]\n",
      "Для точки 4 : [9]\n",
      "Для точки 5 : [8, 13]\n",
      "Для точки 6 : [1, 7]\n",
      "Для точки 7 : [1, 3, 6, 17]\n",
      "Для точки 8 : [5, 13]\n",
      "Для точки 9 : [4]\n",
      "Для точки 10 : [16, 19, 21]\n",
      "Для точки 11 : [15, 22]\n",
      "Для точки 12 : []\n",
      "Для точки 13 : [2, 5, 8, 15]\n",
      "Для точки 14 : []\n",
      "Для точки 15 : [2, 11, 13, 22]\n",
      "Для точки 16 : [10]\n",
      "Для точки 17 : [1, 7, 19, 21]\n",
      "Для точки 18 : []\n",
      "Для точки 19 : [3, 10, 17, 21, 23]\n",
      "Для точки 20 : []\n",
      "Для точки 21 : [10, 17, 19]\n",
      "Для точки 22 : [11, 15]\n",
      "Для точки 23 : [0, 1, 3, 19]\n",
      "Для точки 24 : []\n",
      "Id точек для кластера № 0\n",
      "[0, 1, 3, 6, 7, 10, 17, 19, 21, 23]\n",
      "Id точек для кластера № 1\n",
      "[2, 5, 8, 11, 13, 15, 22]\n",
      "Базовые точки: [1, 3, 7, 13, 15, 17, 19, 23]\n",
      "'Шумные' точки: [4, 9, 12, 14, 16, 18, 20, 24]\n",
      "Граничные точки: [0, 2, 5, 6, 8, 10, 11, 21, 22]\n"
     ]
    },
    {
     "data": {
      "image/png": "[encoded data removed]",
      "text/plain": [
       "<Figure size 640x480 with 1 Axes>"
      ]
     },
     "metadata": {},
     "output_type": "display_data"
    }
   ],
   "source": [
    "# Использование dbscan для первой метрики с eps = 4 и minpts = 4\n",
    "# clustersWithId, Core, border, noise = dbscan(Points, metric_2, 4, 4)\n",
    "clustersWithId, Core, border, noise = dbscan(Points, metric_2, 4, 3)\n",
    "for i, elem in enumerate(clustersWithId):\n",
    "    print(\"Id точек для кластера №\", i)\n",
    "    print(elem)\n",
    "print(\"Базовые точки:\", Core)\n",
    "print(\"'Шумные' точки:\", noise)\n",
    "print(\"Граничные точки:\", border)\n",
    "\n",
    "# Вывод диаграммы\n",
    "diogramma_db(Points, clustersWithId, noise)"
   ]
  },
  {
   "cell_type": "markdown",
   "id": "c255a51c-76c6-4ce2-b44a-59288b8f3987",
   "metadata": {},
   "source": [
    "### Пункт 4.3"
   ]
  },
  {
   "cell_type": "code",
   "execution_count": 26,
   "id": "6730cf32-f763-4aa3-9105-94fcedabf4b5",
   "metadata": {},
   "outputs": [
    {
     "name": "stdout",
     "output_type": "stream",
     "text": [
      "Эпсилон окрестности:\n",
      "Для точки 0 : [1, 3, 6, 7, 23]\n",
      "Для точки 1 : [0, 3, 6, 7, 23, 24]\n",
      "Для точки 2 : [5, 8, 11, 13, 15, 22]\n",
      "Для точки 3 : [0, 1, 7, 17, 19, 21, 23, 24]\n",
      "Для точки 4 : [9, 12]\n",
      "Для точки 5 : [2, 11, 13, 15, 22]\n",
      "Для точки 6 : [0, 1, 23]\n",
      "Для точки 7 : [0, 1, 3, 17, 19, 23, 24]\n",
      "Для точки 8 : [2, 11, 13, 15]\n",
      "Для точки 9 : [4]\n",
      "Для точки 10 : [16, 21]\n",
      "Для точки 11 : [2, 5, 8, 13, 15]\n",
      "Для точки 12 : [4, 20]\n",
      "Для точки 13 : [2, 5, 8, 11, 15, 22]\n",
      "Для точки 14 : []\n",
      "Для точки 15 : [2, 5, 8, 11, 13, 22]\n",
      "Для точки 16 : [10, 21]\n",
      "Для точки 17 : [3, 7, 19, 24]\n",
      "Для точки 18 : [20]\n",
      "Для точки 19 : [3, 7, 17, 21, 24]\n",
      "Для точки 20 : [12, 18]\n",
      "Для точки 21 : [3, 10, 16, 19]\n",
      "Для точки 22 : [2, 5, 13, 15]\n",
      "Для точки 23 : [0, 1, 3, 6, 7, 24]\n",
      "Для точки 24 : [1, 3, 7, 17, 19, 23]\n",
      "Id точек для кластера № 0\n",
      "[0, 1, 3, 6, 7, 17, 19, 21, 23, 24]\n",
      "Id точек для кластера № 1\n",
      "[2, 5, 8, 11, 13, 15, 22]\n",
      "Базовые точки: [1, 2, 3, 7, 13, 15, 23, 24]\n",
      "'Шумные' точки: [4, 9, 10, 12, 14, 16, 18, 20]\n",
      "Граничные точки: [0, 5, 6, 8, 11, 17, 19, 21, 22]\n"
     ]
    },
    {
     "data": {
      "image/png": "[encoded data removed]",
      "text/plain": [
       "<Figure size 640x480 with 1 Axes>"
      ]
     },
     "metadata": {},
     "output_type": "display_data"
    }
   ],
   "source": [
    "# Использование dbscan для первой метрики с eps = 2 и minpts = 6\n",
    "clustersWithId, Core, border, noise = dbscan(Points, metric_3, 6, 2)\n",
    "for i, elem in enumerate(clustersWithId):\n",
    "    print(\"Id точек для кластера №\", i)\n",
    "    print(elem)\n",
    "print(\"Базовые точки:\", Core)\n",
    "print(\"'Шумные' точки:\", noise)\n",
    "print(\"Граничные точки:\", border)\n",
    "\n",
    "# Вывод диаграммы\n",
    "diogramma_db(Points, clustersWithId, noise)"
   ]
  },
  {
   "cell_type": "markdown",
   "id": "dc7a8d89-87de-49a5-9c42-44030d54aae4",
   "metadata": {},
   "source": [
    "### Пункт 4.4"
   ]
  },
  {
   "cell_type": "code",
   "execution_count": 27,
   "id": "3e8a867a-2a55-44f8-8b5b-b22927d84c44",
   "metadata": {},
   "outputs": [
    {
     "name": "stdout",
     "output_type": "stream",
     "text": [
      "Эпсилон окрестности:\n",
      "Для точки 0 : [1, 3, 6, 7, 12, 17, 19, 20, 23]\n",
      "Для точки 1 : [0, 3, 6, 7, 12, 17, 19, 20, 23, 24]\n",
      "Для точки 2 : [4, 5, 8, 9, 11, 13, 14, 15]\n",
      "Для точки 3 : [0, 1, 6, 7, 16, 17, 18, 19, 20, 23, 24]\n",
      "Для точки 4 : [2, 6, 9, 14, 18, 20]\n",
      "Для точки 5 : [2, 8, 11, 13, 15, 22]\n",
      "Для точки 6 : [0, 1, 3, 4, 7, 9, 12, 14, 17, 19, 23, 24]\n",
      "Для точки 7 : [0, 1, 3, 6, 16, 17, 18, 19, 20, 23, 24]\n",
      "Для точки 8 : [2, 5, 11, 13, 15, 22]\n",
      "Для точки 9 : [2, 4, 6, 14]\n",
      "Для точки 10 : [14, 16, 17, 18, 19, 21, 24]\n",
      "Для точки 11 : [2, 5, 8, 13, 15, 22]\n",
      "Для точки 12 : [0, 1, 6, 20, 23]\n",
      "Для точки 13 : [2, 5, 8, 11, 15, 22]\n",
      "Для точки 14 : [2, 4, 6, 9, 10, 16]\n",
      "Для точки 15 : [2, 5, 8, 11, 13, 22]\n",
      "Для точки 16 : [3, 7, 10, 14, 17, 18, 19, 21, 24]\n",
      "Для точки 17 : [0, 1, 3, 6, 7, 10, 16, 18, 19, 21, 23, 24]\n",
      "Для точки 18 : [3, 4, 7, 10, 16, 17, 19, 20, 21, 24]\n",
      "Для точки 19 : [0, 1, 3, 6, 7, 10, 16, 17, 18, 21, 23, 24]\n",
      "Для точки 20 : [0, 1, 3, 4, 7, 12, 18, 23]\n",
      "Для точки 21 : [10, 16, 17, 18, 19, 24]\n",
      "Для точки 22 : [5, 8, 11, 13, 15]\n",
      "Для точки 23 : [0, 1, 3, 6, 7, 12, 17, 19, 20]\n",
      "Для точки 24 : [1, 3, 6, 7, 10, 16, 17, 18, 19, 21]\n",
      "Id точек для кластера № 0\n",
      "[0, 1, 2, 3, 4, 5, 6, 7, 8, 9, 10, 11, 12, 13, 14, 15, 16, 17, 18, 19, 20, 21, 22, 23, 24]\n",
      "Базовые точки: [0, 1, 2, 3, 4, 5, 6, 7, 8, 10, 11, 12, 13, 14, 15, 16, 17, 18, 19, 20, 21, 22, 23, 24]\n",
      "'Шумные' точки: []\n",
      "Граничные точки: [9]\n"
     ]
    },
    {
     "data": {
      "image/png": "[encoded data removed]",
      "text/plain": [
       "<Figure size 640x480 with 1 Axes>"
      ]
     },
     "metadata": {},
     "output_type": "display_data"
    }
   ],
   "source": [
    "# Использование dbscan для первой метрики с eps = 1 и minpts = 5\n",
    "clustersWithId, Core, border, noise = dbscan(Points, metric_4, 5, 1)\n",
    "for i, elem in enumerate(clustersWithId):\n",
    "    print(\"Id точек для кластера №\", i)\n",
    "    print(elem)\n",
    "print(\"Базовые точки:\", Core)\n",
    "print(\"'Шумные' точки:\", noise)\n",
    "print(\"Граничные точки:\", border)\n",
    "\n",
    "# Вывод диаграммы\n",
    "diogramma_db(Points, clustersWithId, noise)"
   ]
  },
  {
   "cell_type": "markdown",
   "id": "94b4c45b-9f2f-4609-a7a2-d9902310c349",
   "metadata": {
    "tags": []
   },
   "source": [
    "### Пункт 4.5"
   ]
  },
  {
   "cell_type": "code",
   "execution_count": 28,
   "id": "52623e49-ed71-4e41-84cd-20c8684665b6",
   "metadata": {},
   "outputs": [
    {
     "name": "stdout",
     "output_type": "stream",
     "text": [
      "Эпсилон окрестности:\n",
      "Для точки 0 : [1, 3, 6, 7, 23]\n",
      "Для точки 1 : [0, 3, 6, 7, 23, 24]\n",
      "Для точки 2 : [5, 8, 11, 13, 15]\n",
      "Для точки 3 : [0, 1, 7, 17, 19, 23, 24]\n",
      "Для точки 4 : [9]\n",
      "Для точки 5 : [2, 8, 11, 13, 15, 22]\n",
      "Для точки 6 : [0, 1, 23]\n",
      "Для точки 7 : [0, 1, 3, 17, 19, 23, 24]\n",
      "Для точки 8 : [2, 5, 11, 13, 15]\n",
      "Для точки 9 : [4]\n",
      "Для точки 10 : [16, 19, 21]\n",
      "Для точки 11 : [2, 5, 8, 13, 15, 22]\n",
      "Для точки 12 : [20]\n",
      "Для точки 13 : [2, 5, 8, 11, 15, 22]\n",
      "Для точки 14 : []\n",
      "Для точки 15 : [2, 5, 8, 11, 13, 22]\n",
      "Для точки 16 : [10, 21]\n",
      "Для точки 17 : [3, 7, 19, 21, 24]\n",
      "Для точки 18 : [20]\n",
      "Для точки 19 : [3, 7, 10, 17, 21, 24]\n",
      "Для точки 20 : [12, 18]\n",
      "Для точки 21 : [10, 16, 17, 19]\n",
      "Для точки 22 : [5, 11, 13, 15]\n",
      "Для точки 23 : [0, 1, 3, 6, 7]\n",
      "Для точки 24 : [1, 3, 7, 17, 19]\n",
      "Id точек для кластера № 0\n",
      "[0, 1, 3, 6, 7, 10, 16, 17, 19, 21, 23, 24]\n",
      "Id точек для кластера № 1\n",
      "[2, 5, 8, 11, 13, 15, 22]\n",
      "Базовые точки: [0, 1, 2, 3, 5, 7, 8, 11, 13, 15, 17, 19, 21, 22, 23, 24]\n",
      "'Шумные' точки: [4, 9, 12, 14, 18, 20]\n",
      "Граничные точки: [6, 10, 16]\n"
     ]
    },
    {
     "data": {
      "image/png": "[encoded data removed]",
      "text/plain": [
       "<Figure size 640x480 with 1 Axes>"
      ]
     },
     "metadata": {},
     "output_type": "display_data"
    }
   ],
   "source": [
    "# Использование dbscan для первой метрики с eps = 3 и minpts = 4\n",
    "clustersWithId, Core, border, noise = dbscan(Points, metric_5, 4, 3)\n",
    "for i, elem in enumerate(clustersWithId):\n",
    "    print(\"Id точек для кластера №\", i)\n",
    "    print(elem)\n",
    "print(\"Базовые точки:\", Core)\n",
    "print(\"'Шумные' точки:\", noise)\n",
    "print(\"Граничные точки:\", border)\n",
    "\n",
    "# Вывод диаграммы\n",
    "diogramma_db(Points, clustersWithId, noise)"
   ]
  },
  {
   "cell_type": "markdown",
   "id": "ac5430e1-614f-41d6-bbc8-da70d9290ace",
   "metadata": {
    "tags": []
   },
   "source": [
    "## Для справки\n",
    "\n",
    "1. Машинное обучение. Учебное пособие. Темы: \n",
    "   - Глава 8. Репрезентативная кластеризация. Алгоритм K-средних. Алгоритм 8.1\n",
    "   - Глава 8. Оценка максимального правдоподобия. Оценка среднего значения.\n",
    "   - Глава 9. Иерархическая кластеризация. Агломеративная иерархическая кластеризация. Алгоритм 9.1\n",
    "   - Глава 10. Кластеризация, основанная на плотности. Алгоритм DBSCAN. Алгоритм 10.1\n",
    "2. [Sklearn KMeans](https://scikit-learn.org/stable/modules/generated/sklearn.cluster.KMeans.html)\n",
    "\n",
    "3. [Scipy Dendrogram](https://docs.scipy.org/doc/scipy/reference/generated/scipy.cluster.hierarchy.dendrogram.html)\n"
   ]
  }
 ],
 "metadata": {
  "kernelspec": {
   "display_name": "Python 3 (ipykernel)",
   "language": "python",
   "name": "python3"
  },
  "language_info": {
   "codemirror_mode": {
    "name": "ipython",
    "version": 3
   },
   "file_extension": ".py",
   "mimetype": "text/x-python",
   "name": "python",
   "nbconvert_exporter": "python",
   "pygments_lexer": "ipython3",
   "version": "3.10.6"
  }
 },
 "nbformat": 4,
 "nbformat_minor": 5
}
