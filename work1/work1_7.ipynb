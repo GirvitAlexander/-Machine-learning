{
 "cells": [
  {
   "cell_type": "code",
   "execution_count": 22,
   "id": "0786223b-5d92-4556-867d-4d6dc1f53cac",
   "metadata": {},
   "outputs": [],
   "source": [
    "import numpy as np\n",
    "\n",
    "from scipy import stats\n",
    "\n",
    "import matplotlib.pyplot as plt\n",
    "from matplotlib import colors\n",
    "from matplotlib.ticker import PercentFormatter\n",
    "\n",
    "import statistics as st"
   ]
  },
  {
   "cell_type": "markdown",
   "id": "63e5001a",
   "metadata": {
    "tags": []
   },
   "source": [
    "# Практическое задание 1\n",
    "## Вариант 1"
   ]
  },
  {
   "cell_type": "markdown",
   "id": "3c9b8991",
   "metadata": {
    "tags": []
   },
   "source": [
    "## Задание 1 \n",
    "\n",
    "Предположим X и Y две случайные переменные, отражающие возраст и рост, соответственно. Рассмотрим случайную выборку из 20 наблюдений:\n",
    "\n",
    "*X = (73, 67, 103, 65, 48, 63, 33, 9, 56, 61, 48, 113, 78, 70, 41, 65, 34, 60, 54, 107)*  \n",
    "*Y = (173, 237, 154, 144, 140, 195, 168, 182, 191, 133, 174, 151, 198, 125, 179, 176, 189, 205, 182, 184)*\n",
    "\n",
    "Необходимо:  \n",
    "\n",
    "\tA. Найти среднее, медиану и моду величины X  \n",
    "\tB. Найти дисперсию Y  \n",
    "\tC. Построить график нормального распределения для X  \n",
    "\tD. Найти вероятность того, что возраст больше 65  \n",
    "\tE. Найти двумерное мат. ожидания и ковариационную матрицу для этих двух величин  \n",
    "\tF. Определить корреляцию между X и Y  \n",
    "\tG. Построить диаграмму рассеяния, отображающая зависимость между возрастом и ростом.  "
   ]
  },
  {
   "cell_type": "markdown",
   "id": "0b605f27-1eb7-4f48-b677-209c452ccdb7",
   "metadata": {},
   "source": [
    "### Данные"
   ]
  },
  {
   "cell_type": "code",
   "execution_count": 21,
   "id": "7b2015d8",
   "metadata": {},
   "outputs": [],
   "source": [
    "X = np.array([73,  67,  103, 65,  48,  63,  33,  9,   56,  61,  48,  113, 78,  70,  41,  65,  34,  60,  54,  107])\n",
    "Y = np.array([173, 237, 154, 144, 140, 195, 168, 182, 191, 133, 174, 151, 198, 125, 179, 176, 189, 205, 182, 184])"
   ]
  },
  {
   "cell_type": "markdown",
   "id": "8c8ca4fd-6b3c-46c1-b356-bcbfd62a3e06",
   "metadata": {
    "tags": []
   },
   "source": [
    "### Пункт A"
   ]
  },
  {
   "cell_type": "code",
   "execution_count": 23,
   "id": "2c412109-df84-49f0-ad15-7787c8c0cbc5",
   "metadata": {},
   "outputs": [
    {
     "name": "stdout",
     "output_type": "stream",
     "text": [
      "Среднее для величины X: 62.4 \n",
      "Медиана для величины X: 62.0 \n",
      "Мода для величины X: 65\n"
     ]
    }
   ],
   "source": [
    "Xmean = X.mean()\n",
    "print(\"Среднее для величины X:\", Xmean,\n",
    "      \"\\nМедиана для величины X:\", np.median(X),\n",
    "      \"\\nМода для величины X:\", st.mode(X))"
   ]
  },
  {
   "cell_type": "markdown",
   "id": "72071eec-0dbd-452f-9a7b-289948d9a4a0",
   "metadata": {},
   "source": [
    "### Пункт B"
   ]
  },
  {
   "cell_type": "code",
   "execution_count": 19,
   "id": "36f610e0-3ff8-4992-9a40-ddf8ca6d1a47",
   "metadata": {},
   "outputs": [
    {
     "name": "stdout",
     "output_type": "stream",
     "text": [
      "Дисперсия для величины Y: 691.1\n"
     ]
    }
   ],
   "source": [
    "print(\"Дисперсия для величины Y:\", Y.var())"
   ]
  },
  {
   "cell_type": "markdown",
   "id": "aff0ef9f-0a6b-4d98-adb7-2f566778026b",
   "metadata": {},
   "source": [
    "### Пункт C"
   ]
  },
  {
   "cell_type": "code",
   "execution_count": 32,
   "id": "1afe1fd8-65e2-4e06-ba17-b54789517b69",
   "metadata": {},
   "outputs": [
    {
     "data": {
      "image/png": "[encoded data removed]",
      "text/plain": [
       "<Figure size 640x480 with 1 Axes>"
      ]
     },
     "metadata": {},
     "output_type": "display_data"
    }
   ],
   "source": [
    "# СКО для генерации иксов для графика\n",
    "Xstd = X.std()\n",
    "\n",
    "#Генерация значения иксов для графика\n",
    "Xt = np.linspace(Xmean - 3 * Xstd, Xmean + 3 * Xstd, 500)\n",
    "\n",
    "#Генерация значений графика плотности нормального распределения по уже сген. иксами\n",
    "F = stats.norm.pdf(Xt, Xmean, Xstd)\n",
    "\n",
    "#Вывод графика\n",
    "plt.plot(Xt, F);"
   ]
  },
  {
   "cell_type": "markdown",
   "id": "b868a3e1-a79c-4285-a95d-25d205d44a97",
   "metadata": {},
   "source": [
    "### Пункт D"
   ]
  },
  {
   "cell_type": "code",
   "execution_count": 44,
   "id": "f2d5ea00-a39a-4ed4-a12c-f5b6b91d54c9",
   "metadata": {},
   "outputs": [
    {
     "name": "stdout",
     "output_type": "stream",
     "text": [
      "Вероятность того, что возраст больше 65: 0.35\n"
     ]
    }
   ],
   "source": [
    "# Выбираем людей, которым больше 65\n",
    "Xtrue = [i for i in X if i > 65]\n",
    "print(\"Вероятность того, что возраст больше 65:\", len(Xtrue) / len(X))"
   ]
  },
  {
   "cell_type": "markdown",
   "id": "78c80082-07fd-4fc2-9999-4b842a52983f",
   "metadata": {},
   "source": [
    "### Пункт E"
   ]
  },
  {
   "cell_type": "code",
   "execution_count": 54,
   "id": "07815d8f-5eaa-4851-9be2-5760fc3e7df3",
   "metadata": {},
   "outputs": [
    {
     "name": "stdout",
     "output_type": "stream",
     "text": [
      "Ковариационная матрица:\n",
      " [[640.04210526  95.05263158]\n",
      " [ 95.05263158 727.47368421]]\n",
      "Двумерное мат. ожидания:\n",
      " [ 62.4 174. ]\n"
     ]
    }
   ],
   "source": [
    "# Соединение двух масивов данных\n",
    "XY = np.stack([X, Y])\n",
    "cov = np.cov(XY)\n",
    "print(\"Ковариационная матрица:\\n\", cov)\n",
    "\n",
    "print(\"Двумерное мат. ожидания:\\n\", np.mean(XY, axis=1))\n"
   ]
  },
  {
   "cell_type": "markdown",
   "id": "4f4f3dec-78cf-4ed1-8676-dcefe6d38197",
   "metadata": {},
   "source": [
    "### Пункт F"
   ]
  },
  {
   "cell_type": "code",
   "execution_count": 102,
   "id": "02a61825-ec15-46b3-94cf-370385983290",
   "metadata": {},
   "outputs": [
    {
     "name": "stdout",
     "output_type": "stream",
     "text": [
      "Корреляция между X и Y: 0.13930003599968438\n"
     ]
    }
   ],
   "source": [
    "print(\"Корреляция между X и Y:\", np.corrcoef(X,Y)[0, 1])"
   ]
  },
  {
   "cell_type": "markdown",
   "id": "4de539c3-d9e0-435b-926b-5ea4979f4915",
   "metadata": {},
   "source": [
    "### Пункт G"
   ]
  },
  {
   "cell_type": "code",
   "execution_count": 33,
   "id": "ed659b58-2c33-45a6-b67d-13d1f792f4ea",
   "metadata": {},
   "outputs": [
    {
     "data": {
      "image/png": "[encoded data removed]",
      "text/plain": [
       "<Figure size 640x480 with 1 Axes>"
      ]
     },
     "metadata": {},
     "output_type": "display_data"
    }
   ],
   "source": [
    "# Вывод диаграммы рассивания\n",
    "plt.scatter(X,Y);"
   ]
  },
  {
   "cell_type": "markdown",
   "id": "beead575",
   "metadata": {
    "tags": []
   },
   "source": [
    "## Задание 2\n",
    "Для следующего набора данных\n",
    "\n",
    "|       | **X<sub>1</sub>** | **X<sub>2</sub>** | **X<sub>3</sub>** |\n",
    "| :---: | :---------------: | :---------------: | :---------------: |\n",
    "| **a** |        47         |        44        |        35         |\n",
    "| **b** |        96         |        55         |        6        |\n",
    "| **c** |        2        |        3        |        3        |\n",
    "\n",
    "рассчитайте ковариационную матрицу и обобщенную дисперсию."
   ]
  },
  {
   "cell_type": "markdown",
   "id": "07f59f68-e30a-4f92-a2db-23ca819443ca",
   "metadata": {},
   "source": [
    "### Данные"
   ]
  },
  {
   "cell_type": "code",
   "execution_count": 59,
   "id": "6c8a58a8",
   "metadata": {},
   "outputs": [],
   "source": [
    "matr = np.array([(47, 44, 35),\n",
    "                 (96, 55, 6),\n",
    "                 (2 , 3,  3)])"
   ]
  },
  {
   "cell_type": "markdown",
   "id": "d22f3f1d-eb33-4582-9d99-9f5125d638c8",
   "metadata": {},
   "source": [
    "### Задание"
   ]
  },
  {
   "cell_type": "code",
   "execution_count": 103,
   "id": "6011c1e3-ff74-4361-ae8d-8add9535e87b",
   "metadata": {},
   "outputs": [
    {
     "name": "stdout",
     "output_type": "stream",
     "text": [
      "Ковариационная матрица:\n",
      " [[ 3.90000000e+01  2.74000000e+02 -2.50000000e+00]\n",
      " [ 2.74000000e+02  2.03033333e+03 -2.18333333e+01]\n",
      " [-2.50000000e+00 -2.18333333e+01  3.33333333e-01]]\n",
      "Обобщенная дисперсия: -2.2798429810677564e-13\n"
     ]
    }
   ],
   "source": [
    "print(\"Ковариационная матрица:\\n\", np.cov(matr))\n",
    "\n",
    "print(\"Обобщенная дисперсия:\", np.linalg.det(np.cov(matr)))"
   ]
  },
  {
   "cell_type": "markdown",
   "id": "52112475",
   "metadata": {},
   "source": [
    "## Задание 3\n",
    "Даны два одномерных нормальных распределения N<sub>a</sub> и N<sub>b</sub> с мат. ожиданиями 3, 7 и СКО 4, 3 соответственно.\n",
    "\n",
    "    A. Для каждого из значения {4, 6} определите, какое из распределений сгенерировало значение с большей вероятностью.  \n",
    "\tB. Найди значение, которой могло быть сгенерировано обеими распределениями с равной вероятностью."
   ]
  },
  {
   "cell_type": "markdown",
   "id": "724f25ca-36d1-4ede-b7d7-c7a8a4c9eb55",
   "metadata": {},
   "source": [
    "### Данные"
   ]
  },
  {
   "cell_type": "code",
   "execution_count": 72,
   "id": "1a6dbf31-70ae-469c-9fda-8261c7c14b90",
   "metadata": {},
   "outputs": [],
   "source": [
    "m = [3, 7]\n",
    "std = [4, 3]"
   ]
  },
  {
   "cell_type": "markdown",
   "id": "b4fad67e-eee0-4f55-a8aa-537a72341a2a",
   "metadata": {},
   "source": [
    "### Пункт A"
   ]
  },
  {
   "cell_type": "code",
   "execution_count": 73,
   "id": "0418a0f3",
   "metadata": {},
   "outputs": [
    {
     "name": "stdout",
     "output_type": "stream",
     "text": [
      "Распределение Na сгенерировало значение 4 с большей вероятностью\n",
      "0.09666702920071232 > 0.08065690817304778\n",
      "Распределение Nb сгенерировало значение 6 с большей вероятностью\n",
      "0.07528435803870111 < 0.12579440923099774\n"
     ]
    }
   ],
   "source": [
    "# Данные задачи\n",
    "x_d = [4, 6]\n",
    "\n",
    "# Инициализация\n",
    "y = [0, 0]\n",
    "\n",
    "# Цикл по исходным данным\n",
    "for i, x_temp in enumerate(x_d):\n",
    "    # Значение для Na\n",
    "    y[0] = stats.norm.pdf(x_temp, m[0], std[0])\n",
    "    # Значение для Nb \n",
    "    y[1] = stats.norm.pdf(x_temp, m[1], std[1])\n",
    "    if y[0] > y[1]:\n",
    "        print(\"Распределение Na сгенерировало значение\", x_d[i], \"с большей вероятностью\")\n",
    "        print(y[0], \">\", y[1])\n",
    "    elif y[0] < y[1]:\n",
    "        print(\"Распределение Nb сгенерировало значение\", x_d[i], \"с большей вероятностью\")\n",
    "        print(y[0], \"<\", y[1])\n",
    "    else:\n",
    "        print(\"Распределения Na и Nb сгенерировали значение \", x_d[i], \"с равной вероятностью\")\n",
    "        print(y[0], \"=\", y[1])"
   ]
  },
  {
   "cell_type": "markdown",
   "id": "3e0908b5-fe70-476f-9faa-e95524adefc1",
   "metadata": {},
   "source": [
    "### Пункт B"
   ]
  },
  {
   "cell_type": "code",
   "execution_count": 78,
   "id": "deb86a26-f55a-4f55-8b66-a505a80c7e92",
   "metadata": {},
   "outputs": [
    {
     "data": {
      "image/png": "[encoded data removed]",
      "text/plain": [
       "<Figure size 640x480 with 1 Axes>"
      ]
     },
     "metadata": {},
     "output_type": "display_data"
    }
   ],
   "source": [
    "#Генерация значения иксов для Na\n",
    "Xa = np.linspace(m[0] - 3 * std[0], m[0] + 3 * std[0], 500)\n",
    "#Генерация значения иксов для Nb\n",
    "Xb = np.linspace(m[1] - 3 * std[1], m[1] + 3 * std[1], 500)\n",
    "\n",
    "#Генерация значений графика плотности нормального распределения по уже сген. иксами для Na\n",
    "Na = stats.norm.pdf(Xa, m[0], std[0])\n",
    "\n",
    "#Генерация значений графика плотности нормального распределения по уже сген. иксами для Nb\n",
    "Nb = stats.norm.pdf(Xb, m[1], std[1])\n",
    "\n",
    "#Вывод графика Na\n",
    "plt.plot(Xa, Na);\n",
    "#Вывод графика Nb\n",
    "plt.plot(Xb, Nb);\n"
   ]
  },
  {
   "cell_type": "code",
   "execution_count": 97,
   "id": "635e290e-b565-43f7-8b72-7de47123a420",
   "metadata": {},
   "outputs": [
    {
     "name": "stdout",
     "output_type": "stream",
     "text": [
      "Примерное значение, которой могло быть сгенерировано обеими распределениями с равной вероятностью: 4.471047104710471\n"
     ]
    }
   ],
   "source": [
    "# Поскольку точка лежит между 4 и 5 (видно на графике) генерируем значения иксов между 4 и 5\n",
    "X_t = np.linspace(4, 5, 10000)\n",
    "\n",
    "# Генерация значений графика плотности нормального распределения по уже сген. иксами для Na\n",
    "Na_t = stats.norm.pdf(X_t, m[0], std[0])\n",
    "\n",
    "# Генерация значений графика плотности нормального распределения по уже сген. иксами для Nb\n",
    "Nb_t = stats.norm.pdf(X_t, m[1], std[1])\n",
    "# Вычисление разности между значенями\n",
    "dif = Na_t - Nb_t\n",
    "# Индекс для самого минимального значения\n",
    "index = 0\n",
    "# цикл для нахождения индекса\n",
    "for i in range(1, len(dif)):\n",
    "    if abs(dif[i]) < abs(dif[index]):\n",
    "        index = i\n",
    "print(\"Примерное значение, \"\n",
    "      \"которой могло быть сгенерировано обеими распределениями с равной вероятностью:\", X_t[index])"
   ]
  }
 ],
 "metadata": {
  "kernelspec": {
   "display_name": "Python 3 (ipykernel)",
   "language": "python",
   "name": "python3"
  },
  "language_info": {
   "codemirror_mode": {
    "name": "ipython",
    "version": 3
   },
   "file_extension": ".py",
   "mimetype": "text/x-python",
   "name": "python",
   "nbconvert_exporter": "python",
   "pygments_lexer": "ipython3",
   "version": "3.10.6"
  }
 },
 "nbformat": 4,
 "nbformat_minor": 5
}
