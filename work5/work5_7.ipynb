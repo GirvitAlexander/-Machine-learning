{
 "cells": [
  {
   "cell_type": "code",
   "execution_count": 1,
   "id": "6310f9ce-40d2-465c-8d8e-2039a0896dd0",
   "metadata": {},
   "outputs": [],
   "source": [
    "import numpy as np\n",
    "import scipy\n",
    "\n",
    "from scipy import stats\n",
    "\n",
    "import matplotlib.pyplot as plt\n",
    "from matplotlib import colors\n",
    "from matplotlib.ticker import PercentFormatter"
   ]
  },
  {
   "cell_type": "markdown",
   "id": "871de4ed-ced8-4124-bad1-f5f42c584b22",
   "metadata": {},
   "source": [
    "# Практическое задание 5\n",
    "## Вариант 7"
   ]
  },
  {
   "cell_type": "markdown",
   "id": "4fcd2750-1aa2-4b13-8b10-2bfff9a94f6c",
   "metadata": {
    "tags": []
   },
   "source": [
    "## Задание 1 "
   ]
  },
  {
   "cell_type": "markdown",
   "id": "3bd45d3f-36ca-4441-bf53-c526672d1b4a",
   "metadata": {},
   "source": [
    "Дан набор точек **S**:\n",
    "\n",
    "| *x<sub>i</sub>* | *a<sub>1</sub>* | *a<sub>2</sub>* | *a<sub>3</sub>* | Class |\n",
    "| ---- | ---- | ---- | ---- | ---- |\n",
    "|*x<sub>0</sub>*|F|D|7.8|Y|\n",
    "|*x<sub>1</sub>*|N|D|4.9|N|\n",
    "|*x<sub>2</sub>*|N|V|5.4|N|\n",
    "|*x<sub>3</sub>*|N|D|1.6|N|\n",
    "|*x<sub>4</sub>*|N|D|6|N|\n",
    "|*x<sub>5</sub>*|F|D|5.6|Y|\n",
    "|*x<sub>6</sub>*|N|D|8.4|Y|\n",
    "|*x<sub>7</sub>*|F|R|9.7|Y|\n",
    "|*x<sub>8</sub>*|N|V|5.9|Y|\n",
    "|*x<sub>9</sub>*|F|D|4.2|N|\n",
    "\n",
    "1.1 *Самостоятельно* реализуйте алгоритм **NaiveBayes** (*наивный классификатор Байеса*) для **числовых** и **категориальных** признаков.\n",
    "\n",
    "Необходимо реализовать функцию обучения классификатора на исходных данных, результат которой позволит в дальнейшем производить классификацию точек.\n",
    "\n",
    "Заметьте, что в исходных данных атрибуты *a<sub>1</sub>* и *a<sub>2</sub>* являются категориальными признаками, а *a<sub>3</sub>* - числовым (непрерывным) признаком.\n",
    "\n",
    "Также реализуйте функцию определения класса точки и вероятностей ее принадлежности к классам. На вход функции подается результат обучения NaiveBayes и точка в пространстве исходных данных.\n",
    "\n",
    "Воспользовавшись реализованными функциями, обучите классификатор и определите классы и вероятности точек:\n",
    "\n",
    "**(F,R,9.3),\n",
    "(F,R,1),\n",
    "(N,D,6.2)**."
   ]
  },
  {
   "cell_type": "markdown",
   "id": "6c1344a1-2acf-44ae-ab16-60df12766d54",
   "metadata": {},
   "source": [
    "### Данные"
   ]
  },
  {
   "cell_type": "code",
   "execution_count": 2,
   "id": "4e69d35c-ffaa-43a5-aae3-91a89bb8cc57",
   "metadata": {},
   "outputs": [],
   "source": [
    "# Набор данных, на которых тренируем наш классификатор\n",
    "D_1 = [[['F', 'D', 7.8], 'Y'],\n",
    "       [['N', 'D', 4.9], 'N'],\n",
    "       [['N', 'V', 5.4], 'N'],\n",
    "       [['N', 'D', 1.6], 'N'],\n",
    "       [['N', 'D', 6. ], 'N'],\n",
    "       [['F', 'D', 5.6], 'Y'],\n",
    "       [['N', 'D', 8.4], 'Y'],\n",
    "       [['F', 'R', 9.7], 'Y'],\n",
    "       [['N', 'V', 5.9], 'Y'],\n",
    "       [['F', 'D', 4.2], 'N']]\n",
    "\n",
    "# Точки, которые будем расспределять на классы\n",
    "x_new = [['F', 'R', 9.3],\n",
    "         ['F', 'R', 1.],\n",
    "         ['N', 'D', 6.2]]"
   ]
  },
  {
   "cell_type": "markdown",
   "id": "725cab54-22e2-48ed-b195-763a6a102ba3",
   "metadata": {},
   "source": [
    "### Пункт 1.1"
   ]
  },
  {
   "cell_type": "code",
   "execution_count": 3,
   "id": "55e4d221-f366-4af6-a7ab-a72487dc2d70",
   "metadata": {},
   "outputs": [],
   "source": [
    "# Функция для работы алгоритма NaiveBayes\n",
    "# D - набор точек, на которых обучаем классификатор\n",
    "# return:\n",
    "# dict{str: float} - априорные вероятности для классов\n",
    "# dict{str: float} - значения среднего для числового параметра\n",
    "# dict{str: float} - значения дисперсии для числового параметра\n",
    "# dict{str: [dict{str: float}]} - значения для функции(вероятностей) категориальных признаков для каждого класса\n",
    "def NaiveBayes(D):\n",
    "    # Множество всех классов\n",
    "    class_s = set([d_row[1] for d_row in D])\n",
    "    # Инициализация априорных вероятностей классов\n",
    "    P_class = {}\n",
    "    # Инициализация средних\n",
    "    sred = {}\n",
    "    # Инициализация дисперсий\n",
    "    var = {}\n",
    "    # Инициализация значений функций(вероятностей) категориальных признаков для каждого класса\n",
    "    f_kategory = {}\n",
    "    # Инициализация для множества различных категориальных признаков\n",
    "    a_set = []\n",
    "    # Получение уникальных значений для каждого признака\n",
    "    for i in range(2):\n",
    "        a_set.append(set([d_row[0][i] for d_row in D]))\n",
    "    # Размер тренирующейся модели\n",
    "    n = len(D)\n",
    "    \n",
    "    # Проходимся по каждому классу\n",
    "    for c in class_s:\n",
    "        # точки принадлежащие этому классу\n",
    "        d_c = [d_row[0] for d_row in D if d_row[1] == c]\n",
    "        # Количество точек в этом классе\n",
    "        n_i = len(d_c)\n",
    "        # Рассчет априорной вероятности\n",
    "        P_class[c] = n_i / n\n",
    "        \n",
    "        # Рассчет среднего\n",
    "        sred[c] = (sum([d_row[2] for d_row in d_c]) / n_i)\n",
    "        # Центрирование данных\n",
    "        Z = np.array([d_row[2] - sred[c] for d_row in d_c])\n",
    "        \n",
    "        # Рассчет дисперсии\n",
    "        var[c] = np.dot(Z.T, Z) / n_i\n",
    "        \n",
    "        # Инициализация переменной для значений функций(вероятностей) категориальных признаков\n",
    "        kat = [{}, {}]\n",
    "        \n",
    "        # Проход по двум категорильным признакам\n",
    "        for i in range(2):\n",
    "            # Список элементов в i категориальном признаке\n",
    "            elems = [d_row[i] for d_row in d_c]\n",
    "            # Рассчет для каждого элемента функции(вероятности)\n",
    "            for elem in a_set[i]:\n",
    "                kat[i][elem] = (elems.count(elem) + 1) / (n_i + len(a_set[i]))\n",
    "        \n",
    "        f_kategory[c] = kat\n",
    "        \n",
    "    return P_class, sred, var, f_kategory\n",
    "\n",
    "# Функция для проверки к какому классу она принадлежит\n",
    "# x - точка, для которой определяют класс\n",
    "# P_class - приорные вероятности для классов\n",
    "# sred - начения среднего для числового параметра\n",
    "# var - значения дисперсии для числового параметра\n",
    "# f_kategory - начения для функции(вероятностей) категориальных признаков для каждого класса\n",
    "# return:\n",
    "# str - конкретный класс\n",
    "# float - вероятность попадания в этот класс\n",
    "def test(x, P_class, sred, var, f_kategory):\n",
    "    # Инициализация максимума и полной вероятности\n",
    "    maxim = -1\n",
    "    sum_c = 0\n",
    "    \n",
    "    # Поиск максимума по всем классам\n",
    "    for c, apriory_prob in P_class.items():\n",
    "        # Числовой признак\n",
    "        res = apriory_prob * stats.norm.pdf(x[2], sred[c], var[c]**(1 / 2))\n",
    "        # Категориальные признаки\n",
    "        for i in range(2):\n",
    "            res *= f_kategory[c][i][x[i]]\n",
    "        # Обновление максимума\n",
    "        if maxim == -1 or maxim < res:\n",
    "            maxim = res\n",
    "            max_c = c\n",
    "        sum_c += res\n",
    "    # Рассчет вероятности   \n",
    "    prob = maxim / sum_c\n",
    "    return max_c, prob"
   ]
  },
  {
   "cell_type": "code",
   "execution_count": 4,
   "id": "5c2a74c0-6d44-4c5e-8608-a6c87d23da77",
   "metadata": {},
   "outputs": [
    {
     "name": "stdout",
     "output_type": "stream",
     "text": [
      "Априорная вероятность Y равна 0.5\n",
      "Априорная вероятность N равна 0.5\n",
      "Среднее для числового признака из класса Y равна 7.4799999999999995\n",
      "Среднее для числового признака из класса N равна 4.42\n",
      "Дисперсия для числового признака из класса Y равна 2.3815999999999997\n",
      "Дисперсия для числового признака из класса N равна 2.3376\n",
      "Функция категориальных признаков: Y\n",
      "1 признак {'N': 0.42857142857142855, 'F': 0.5714285714285714}\n",
      "2 признак {'R': 0.25, 'D': 0.5, 'V': 0.25}\n",
      "Функция категориальных признаков: N\n",
      "1 признак {'N': 0.7142857142857143, 'F': 0.2857142857142857}\n",
      "2 признак {'R': 0.125, 'D': 0.625, 'V': 0.25}\n",
      "\n",
      "Точка ['F', 'R', 9.3] принадлежит классу Y с вероятностью 0.9969064172596196\n",
      "Точка ['F', 'R', 1.0] принадлежит классу N с вероятностью 0.9928737542636696\n",
      "Точка ['N', 'D', 6.2] принадлежит классу N с вероятностью 0.6009823396735623\n"
     ]
    }
   ],
   "source": [
    "# Вызов алгоритма наивного базиса\n",
    "P_class, sred, var, f_kategory = NaiveBayes(D_1)\n",
    "for c, p in P_class.items():\n",
    "    print(\"Априорная вероятность\", c, \"равна\", p)\n",
    "for c, elem in sred.items():\n",
    "    print(\"Среднее для числового признака из класса\", c, \"равна\", elem)\n",
    "    \n",
    "for c, elem in var.items():\n",
    "    print(\"Дисперсия для числового признака из класса\", c, \"равна\", elem)\n",
    "        \n",
    "for i, j in f_kategory.items():\n",
    "    print(\"Функция категориальных признаков:\", i)\n",
    "    for index, elem in enumerate(j):\n",
    "        print(index + 1, \"признак\", elem)\n",
    "    \n",
    "print()\n",
    "\n",
    "# Проверка на принадлежность точек к разным классам\n",
    "for x in x_new:\n",
    "    y, y_prob = test(x, P_class, sred, var, f_kategory)\n",
    "    print(\"Точка\", x, \"принадлежит классу\", y, \"с вероятностью\", y_prob)\n"
   ]
  },
  {
   "cell_type": "markdown",
   "id": "3a7b4cf3-5d23-494c-b09f-ad1cab5a54c0",
   "metadata": {},
   "source": [
    "## Задание 2"
   ]
  },
  {
   "cell_type": "markdown",
   "id": "fda3da22-e5f7-431f-8473-88c141cb3679",
   "metadata": {},
   "source": [
    "Дан набор точек **D**:\n",
    "\n",
    "| *i* | *x<sub>i</sub>* | Class |\n",
    "| ---- | ---- | ---- |\n",
    "|0|(11.2, 5.8)|-1|\n",
    "|1|(10.9, 5.3)|-1|\n",
    "|2|(10.7, 5.8)|-1|\n",
    "|3|(4.8 , 1  )|1 |\n",
    "|4|(3.5 , 3.7)|1 |\n",
    "|5|(0.8 , 6.1)|1 |\n",
    "|6|(5.6 , 1.6)|1 |\n",
    "|7|(11.1, 6.3)|-1|\n",
    "|8|(10.3, 6.1)|-1|\n",
    "|9|(4.2 , 1.4)|1 |\n",
    "\n",
    "2.1 Реализуйте алгоритм **LinearDiscriminant** (*линейный дискриминантный анализ*) для двух классов по шагам:\n",
    "\n",
    "- рассчитайте μ<sub>+1</sub> и μ<sub>-1</sub> и также матрицу B - матрица межклассового разброса\n",
    "\n",
    "- рассчитайте S<sub>+1</sub> и S<sub>-1</sub> и также матрицу S - матрица внутриклассового разброса\n",
    "\n",
    "- найдите направление **w**, которое лучше всего дискриминирует классы\n",
    "\n",
    "- на направлении **w** найдите точку, которая лучше всего делит классы\n",
    "\n",
    "2.2 Определите класс точки **(6.1, 12.2)**\n",
    "\n",
    "2.3 Постройте диаграмму рассеяния исходных данных. Подпишите точки. Выделите цветом принадлежность точки к одному из классов.  \n",
    "\n",
    "Также выведите на диаграмме:\n",
    "\n",
    "- точки центов классов, выделите их иным маркером и подпишите\n",
    "- вектор **w**\n",
    "- линию **k** в направлении **w**\n",
    "- спроектированные на **k** центры классов\n",
    "- доп. точку из пункта 2.2, цветом укажите принадлежность к классу\n",
    "- линии проекций на **k** всех точек (исходных точек, центров, доп. точки)\n",
    "- найденную в пункте 2.1 точку, которая лучше всего делит классы на **k**\n",
    "\n",
    "**☞** Размер диаграммы не меньше чем (8, 6), dpi=80. Установить одинаковый масштаб осей графика. Легенду вынести за границы графика."
   ]
  },
  {
   "cell_type": "markdown",
   "id": "9206256d-1ec2-4839-a35c-2a8b06d788a8",
   "metadata": {
    "tags": []
   },
   "source": [
    "### Данные"
   ]
  },
  {
   "cell_type": "code",
   "execution_count": 5,
   "id": "cdbb1af5-f034-4edb-a0f4-3976c7c1a27d",
   "metadata": {},
   "outputs": [],
   "source": [
    "# Набор данных, состоящих из точек и принадлежности их к классу\n",
    "D_2 = [[np.array([11.2, 5.8]), -1],\n",
    "       [np.array([10.9, 5.3]), -1],\n",
    "       [np.array([10.7, 5.8]), -1],\n",
    "       [np.array([4.8 , 1. ]), 1 ],\n",
    "       [np.array([3.5 , 3.7]), 1 ],\n",
    "       [np.array([0.8 , 6.1]), 1 ],\n",
    "       [np.array([5.6 , 1.6]), 1 ],\n",
    "       [np.array([11.1, 6.3]), -1],\n",
    "       [np.array([10.3, 6.1]), -1],\n",
    "       [np.array([4.2 , 1.4]), 1 ]]\n",
    "# Классы из задания\n",
    "class_s = [-1, 1]\n",
    "\n",
    "# Точка, для которой нужно будет определить класс\n",
    "x_n = np.array([6.1, 12.2])"
   ]
  },
  {
   "cell_type": "markdown",
   "id": "d53a8a91-8916-42d7-84ee-694fc402c435",
   "metadata": {},
   "source": [
    "### Пункт 2.1"
   ]
  },
  {
   "cell_type": "code",
   "execution_count": 11,
   "id": "e63bc54c-cf2b-4c34-9df1-a9f58ba7476d",
   "metadata": {},
   "outputs": [
    {
     "name": "stdout",
     "output_type": "stream",
     "text": [
      "Среднее для класса '-1' равно [10.84  5.86]\n",
      "Среднее для класса '1' равно [3.78 2.76]\n",
      "Матрица межклассового разброса:\n",
      "[[49.8436 21.886 ]\n",
      " [21.886   9.61  ]]\n",
      "Центрированные данные для класса '-1':\n",
      "[[ 0.36 -0.06]\n",
      " [ 0.06 -0.56]\n",
      " [-0.14 -0.06]\n",
      " [ 0.26  0.44]\n",
      " [-0.54  0.24]]\n",
      "Центрированные данные для класса '1':\n",
      "[[ 1.02 -1.76]\n",
      " [-0.28  0.94]\n",
      " [-2.98  3.34]\n",
      " [ 1.82 -1.16]\n",
      " [ 0.42 -1.36]]\n",
      "Матрица внутриклассового разброса:\n",
      "[[ 14.    -14.756]\n",
      " [-14.756  18.904]]\n",
      "Собственные числа:\n",
      " [3.67180921e+01 1.77635684e-15]\n",
      "Собственные векторы:\n",
      " [[ 0.77193852 -0.4020431 ]\n",
      " [ 0.63569719  0.91562074]]\n",
      "Вектор w:\n",
      "[0.77193852 0.63569719]\n",
      "Точка, которая лучше всего делит классы\n",
      "[6.60906599 5.44261566]\n"
     ]
    }
   ],
   "source": [
    "# Точки разбитые на классы\n",
    "D_2_points = np.array([[point[0] for point in D_2 if point[1] == c] for c in class_s])\n",
    "\n",
    "# Инициализация средних\n",
    "mean = np.array([np.zeros(2), np.zeros(2)])\n",
    "\n",
    "# Рассчет средних для каждого класса\n",
    "for i in range(2):\n",
    "    mean[i] = np.mean(D_2_points[i], axis=0)\n",
    "\n",
    "for i in range(2):\n",
    "    print(\"Среднее для класса '\", class_s[i], \"' равно \", mean[i], sep=\"\")\n",
    "\n",
    "# Разница средних\n",
    "temp = mean[0] - mean[1]\n",
    "\n",
    "# Рассчет матрицы межклассового разброса:\n",
    "B = np.dot(np.matrix(temp).T, np.matrix(temp))\n",
    "\n",
    "print(\"Матрица межклассового разброса:\")\n",
    "print(B)\n",
    "\n",
    "# Центрирование данных для каждого класса\n",
    "Z = []\n",
    "for i in range(2):\n",
    "    Z.append(D_2_points[i] - np.dot(np.matrix(np.ones(len(D_2_points[i]))).T, np.matrix(mean[i])))\n",
    "\n",
    "print(\"Центрированные данные для класса '-1':\", Z[0],\n",
    "      \"Центрированные данные для класса '1':\", Z[1], sep = '\\n')\n",
    "\n",
    "# Рассчет матриц разбросов классов\n",
    "S = []\n",
    "for i in range(2):\n",
    "    S.append(np.dot(Z[i].T, Z[i]))\n",
    "\n",
    "# Рассчет матрицы внутриклассового разброса\n",
    "S_all = S[0] + S[1]\n",
    "print(\"Матрица внутриклассового разброса:\")\n",
    "print(S_all)\n",
    "\n",
    "# Нахождение собственных векторов и чисел\n",
    "temp_data = np.linalg.eig(np.dot(np.linalg.inv(S_all), B))\n",
    "\n",
    "# Поиск максимального собственного числа и получение его собственного вектора\n",
    "w_1 = np.array(temp_data[1].T)[np.argmax(temp_data[0])]\n",
    "\n",
    "print(\"Собственные числа:\\n\", temp_data[0])\n",
    "print(\"Собственные векторы:\\n\", temp_data[1])\n",
    "\n",
    "print(\"Вектор w:\")\n",
    "print(w_1)\n",
    "\n",
    "# Проекции точек на прямой\n",
    "D_2_proj = np.array([[np.dot(w_1, point[0]) * w_1 for point in D_2 if point[1] == c] for c in class_s])\n",
    "# Коэффициенты, при помощи которых получаются проекции точек\n",
    "D_2_koef = [[np.dot(w_1, point[0]) for point in D_2 if point[1] == c] for c in class_s]\n",
    "\n",
    "# Получение максимума расстояния и минимум\n",
    "index_max = np.argmax([max(D_2_koef[0]), max(D_2_koef[1])])\n",
    "index_min = 1 - index_max\n",
    "# Нахождение минимума в максимумах и максимума в минимумах\n",
    "index_max_min_point = np.argmin(D_2_koef[index_max])\n",
    "index_min_max_point = np.argmax(D_2_koef[index_min])\n",
    "# Рассчет точки, которая лучше всего делит классы\n",
    "true_point = (D_2_proj[index_max][index_max_min_point] + D_2_proj[index_min][index_min_max_point]) / 2\n",
    "# Рассчет его коэффициента\n",
    "koef_true_point = (D_2_koef[index_max][index_max_min_point] + D_2_koef[index_min][index_min_max_point]) / 2\n",
    "\n",
    "print(\"Точка, которая лучше всего делит классы\")\n",
    "print(true_point)"
   ]
  },
  {
   "cell_type": "markdown",
   "id": "c84512d4-c0c0-446d-bae8-7fbffd26a9c7",
   "metadata": {
    "tags": []
   },
   "source": [
    "### Пункт 2.2"
   ]
  },
  {
   "cell_type": "code",
   "execution_count": 12,
   "id": "43132062-40d5-4c5d-90b4-0a3b0b5e472c",
   "metadata": {},
   "outputs": [
    {
     "name": "stdout",
     "output_type": "stream",
     "text": [
      "Точка [ 6.1 12.2] относится к классу '-1'\n"
     ]
    }
   ],
   "source": [
    "# Рассчет коэффициента для новой точки на прямой k\n",
    "koef_x_n = np.dot(w_1, x_n)\n",
    "\n",
    "# Проецируем точку на прямую\n",
    "x_n_proj = np.dot(w_1, x_n) * w_1\n",
    "\n",
    "# Рассчет класса, к которому относится точка\n",
    "id_class_point = index_min if koef_x_n < koef_true_point else index_max\n",
    "\n",
    "print(\"Точка \", x_n, \" относится к классу '\", class_s[id_class_point], \"'\", sep=\"\")"
   ]
  },
  {
   "cell_type": "markdown",
   "id": "b8f23a14-b513-4877-b7dd-524a56f39e76",
   "metadata": {},
   "source": [
    "### Пункт 2.3"
   ]
  },
  {
   "cell_type": "code",
   "execution_count": 18,
   "id": "e68784f6-eabc-4214-b6db-b1e071edf0cd",
   "metadata": {},
   "outputs": [
    {
     "data": {
      "text/plain": [
       "[<matplotlib.lines.Line2D at 0x7f1114229ea0>]"
      ]
     },
     "execution_count": 18,
     "metadata": {},
     "output_type": "execute_result"
    },
    {
     "data": {
      "image/png": "[encoded data removed]",
      "text/plain": [
       "<Figure size 640x480 with 1 Axes>"
      ]
     },
     "metadata": {},
     "output_type": "display_data"
    }
   ],
   "source": [
    "# Создание графика с конкретным размеров осей\n",
    "fig = plt.figure()\n",
    "ax = fig.add_subplot(1, 1, 1)\n",
    "ax.grid(True, which='both')\n",
    "ax.set_ylim(0, 6 * 2.1)\n",
    "ax.set_xlim(0, 8 * 2.1)\n",
    "\n",
    "# Построение прямой K в направлении w\n",
    "plt.plot([0, w_1[0] * 20], [0, w_1[1] * 20])\n",
    "# Построение стрелочки для направления w\n",
    "plt.arrow(0, 0, w_1[0] * 19, w_1[1] * 19, head_width=0.3, head_length=0.3)\n",
    "\n",
    "# Задание цветов для классов\n",
    "color_s = ['orange', 'b']\n",
    "\n",
    "# Вывод точек на диаграмму\n",
    "for i in range(2):\n",
    "    x_val  = [point[0] for point in D_2_points[i]]\n",
    "    y_val  = [point[1] for point in D_2_points[i]]\n",
    "    plt.scatter(x_val, y_val, c = color_s[i])\n",
    "\n",
    "# Подпись точек\n",
    "cnt = 0\n",
    "for elem in D_2:\n",
    "    plt.text(elem[0][0], elem[0][1], cnt)\n",
    "    cnt = cnt + 1\n",
    "\n",
    "\n",
    "# Вывод проекций точек на диаграмму    \n",
    "for i in range(2):\n",
    "    x_val  = [point[0] for point in D_2_proj[i]]\n",
    "    y_val  = [point[1] for point in D_2_proj[i]]\n",
    "    plt.scatter(x_val, y_val, c = color_s[i])\n",
    "\n",
    "# Вывод линий для визуализации проекций на прямую\n",
    "for i in range(len(D_2_points)):\n",
    "    for j in range(len(D_2_points[i])):\n",
    "        plt.plot([D_2_points[i][j][0], D_2_proj[i][j][0]],\n",
    "                 [D_2_points[i][j][1], D_2_proj[i][j][1]],\n",
    "                 linestyle = '--',\n",
    "                 c = 'black')\n",
    "\n",
    "# Проекции центров\n",
    "mean_proj = [np.dot(w_1, mean[i]) * w_1 for i in range(2)]\n",
    "\n",
    "for i in range(2):\n",
    "    plt.plot([mean[i][0], mean_proj[i][0]], [mean[i][1], mean_proj[i][1]], \n",
    "             marker='*', linestyle = '--', c = 'red')\n",
    "    plt.text(mean_proj[i][0] - 1, mean_proj[i][1] + 0.5, \"Центр(\" + str(class_s[i]) + \")\")\n",
    "\n",
    "# Вывод точки, которая лучше всего делит на классы    \n",
    "plt.scatter(true_point[0], true_point[1], c='green')\n",
    "# Подпись этой точки\n",
    "plt.text(true_point[0] - 0.6, true_point[1] - 0.4, \"Раздел.\")\n",
    "\n",
    "# Вывод точки, для которой нужно определить класс \n",
    "plt.scatter(x_n[0], x_n[1], c = color_s[id_class_point])\n",
    "\n",
    "# Вывод проекции этой точки\n",
    "plt.scatter(x_n_proj[0], x_n_proj[1], c = color_s[id_class_point])\n",
    "\n",
    "# Подпись этой точки\n",
    "plt.text(x_n[0], x_n[1], \"new\")\n",
    "\n",
    "# Вывод линии проекции этой точки\n",
    "plt.plot([x_n[0], x_n_proj[0]],\n",
    "         [x_n[1], x_n_proj[1]],\n",
    "         linestyle = '--',\n",
    "         c = 'black')"
   ]
  },
  {
   "cell_type": "markdown",
   "id": "ac5430e1-614f-41d6-bbc8-da70d9290ace",
   "metadata": {},
   "source": [
    "## Для справки\n",
    "\n",
    "1. Машинное обучение. Учебное пособие. Темы: \n",
    "   - Глава 12. Вероятностная классификация. Наивный байесовский классификатор. Алгоритм 12.2\n",
    "   - Глава 14. Линейный дискриминантный анализ. Алгоритм 14.1"
   ]
  }
 ],
 "metadata": {
  "kernelspec": {
   "display_name": "Python 3 (ipykernel)",
   "language": "python",
   "name": "python3"
  },
  "language_info": {
   "codemirror_mode": {
    "name": "ipython",
    "version": 3
   },
   "file_extension": ".py",
   "mimetype": "text/x-python",
   "name": "python",
   "nbconvert_exporter": "python",
   "pygments_lexer": "ipython3",
   "version": "3.10.6"
  }
 },
 "nbformat": 4,
 "nbformat_minor": 5
}
